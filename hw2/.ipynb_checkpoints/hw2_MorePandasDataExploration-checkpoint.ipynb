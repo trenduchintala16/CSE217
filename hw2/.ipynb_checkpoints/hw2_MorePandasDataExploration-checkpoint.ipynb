{
 "cells": [
  {
   "cell_type": "markdown",
   "metadata": {},
   "source": [
    "# Hw 2: More Pandas and Data Exploration! 🐼"
   ]
  },
  {
   "cell_type": "markdown",
   "metadata": {},
   "source": [
    "Name:\n",
    "\n",
    "Student ID:\n",
    "\n",
    "Collaborators:"
   ]
  },
  {
   "cell_type": "markdown",
   "metadata": {},
   "source": [
    "## Instructions\n",
    "\n",
    "For this homework, work through **Lab 2 (Analyzing the MoMA Data)** first. In general, you should feel free to import any package that we have previously used in class. Ensure that all plots have the necessary components that a plot should have (e.g. axes labels, a title, a legend).\n",
    "\n",
    "Frequently **save** your notebook!"
   ]
  },
  {
   "cell_type": "markdown",
   "metadata": {},
   "source": [
    "### Collaborators and Sources\n",
    "Furthermore, in addition to recording your **collaborators** on this homework, please also remember to **cite/indicate all external sources** used when finishing this assignment. \n",
    "> This includes peers, TAs, and links to online sources. \n",
    "\n",
    "Note that these citations will be taken into account during the grading and regrading process."
   ]
  },
  {
   "cell_type": "code",
   "execution_count": null,
   "metadata": {},
   "outputs": [],
   "source": [
    "# collaborators and sources:\n",
    "# Albert Einstein and Marie Curie\n",
    "# https://developers.google.com/edu/python/strings\n",
    "\n",
    "# your code here\n",
    "answer = 'my answer'"
   ]
  },
  {
   "cell_type": "markdown",
   "metadata": {},
   "source": [
    "### Submission instructions\n",
    "* Submit this python notebook including your answers in the code cells as homework submission.\n",
    "* **Do not change the number of cells!** Your submission notebook should have exactly one code cell per problem. \n",
    "* Do **not** remove the `# your code here` line and add you solution after that line. "
   ]
  },
  {
   "cell_type": "markdown",
   "metadata": {},
   "source": [
    "## 1. Pandas!\n",
    "\n",
    "In lab, we used a Python package called [Pandas](https://pandas.pydata.org), a tool for manupulating tabular data (i.e. data that is stored in the form of tables). Let's recap some of its capabilities."
   ]
  },
  {
   "cell_type": "code",
   "execution_count": null,
   "metadata": {},
   "outputs": [],
   "source": [
    "import pandas as pd"
   ]
  },
  {
   "cell_type": "markdown",
   "metadata": {},
   "source": [
    "For example, consider the following table:\n",
    "\n",
    "| id | name     | rating |\n",
    "|:--:|:-------- |:------:|\n",
    "| 1  | Sandwich | 3      |\n",
    "| 2  | Steak    | 4      |\n",
    "| 3  | Pizza    | 5      |"
   ]
  },
  {
   "cell_type": "markdown",
   "metadata": {},
   "source": [
    "### Problem 1.1\n",
    "\n",
    "Let's load in the rest of the data — the complete file is located in `utility/data/food-data.csv`.\n",
    "\n",
    "**Try this!** Navigate to the file containing the data and take a look at it. Based on the format of the data, choose the most applicable Pandas reader from [this list](https://pandas.pydata.org/pandas-docs/stable/user_guide/io.html) and load the data into `food_data`. Evaluate the variable to see the contents of the dataset."
   ]
  },
  {
   "cell_type": "code",
   "execution_count": null,
   "metadata": {},
   "outputs": [],
   "source": [
    "# your code here\n"
   ]
  },
  {
   "cell_type": "markdown",
   "metadata": {},
   "source": [
    "The core data structure of Pandas is called a [DataFrame](https://pandas.pydata.org/pandas-docs/stable/reference/api/pandas.DataFrame.html). It provides an API that allows you to interact with tabular data easily. For example, you can display the first 5 rows quickly by using the `head` method."
   ]
  },
  {
   "cell_type": "code",
   "execution_count": null,
   "metadata": {},
   "outputs": [],
   "source": [
    "food_data.head()"
   ]
  },
  {
   "cell_type": "markdown",
   "metadata": {},
   "source": [
    "Since CSV is a standard format, Pandas new how to read the data and even assumed that the first row was the header row containing the column headers. You can access these column names in the `columns` property of a DataFrame."
   ]
  },
  {
   "cell_type": "code",
   "execution_count": null,
   "metadata": {},
   "outputs": [],
   "source": [
    "food_data.columns"
   ]
  },
  {
   "cell_type": "markdown",
   "metadata": {},
   "source": [
    "Some data is stored without a header row. If this is the case, the data will usually be accompanied by some documentation explaining what each column should be. Pandas readers allow you to customize whether or not it should expect a header row, and many other table features, to your dataset. Try evaluating the reader function you used in [Problem 1.1](#Problem-1.1) after appending a [`?`🔗](https://ipython.readthedocs.io/en/stable/interactive/python-ipython-diff.html#accessing-help) to it."
   ]
  },
  {
   "cell_type": "code",
   "execution_count": null,
   "metadata": {},
   "outputs": [],
   "source": [
    "food_data?"
   ]
  },
  {
   "cell_type": "markdown",
   "metadata": {},
   "source": [
    "### 1.1 Indexing with DataFrames\n",
    "\n",
    "You can access specific columns by indexing into the DataFrame by the column's name. For example, if we wanted to get the values in the `name` column, we would do this:"
   ]
  },
  {
   "cell_type": "code",
   "execution_count": null,
   "metadata": {},
   "outputs": [],
   "source": [
    "food_data['name']"
   ]
  },
  {
   "cell_type": "markdown",
   "metadata": {},
   "source": [
    "Columns are also accessible as properties on the DataFrame object so the following cell is equivalent to the previous one."
   ]
  },
  {
   "cell_type": "code",
   "execution_count": null,
   "metadata": {},
   "outputs": [],
   "source": [
    "food_data.name"
   ]
  },
  {
   "cell_type": "markdown",
   "metadata": {},
   "source": [
    "You can also access multiple columns by specifying a list of columns to retrieve."
   ]
  },
  {
   "cell_type": "code",
   "execution_count": null,
   "metadata": {},
   "outputs": [],
   "source": [
    "food_data[['name', 'rating']]"
   ]
  },
  {
   "cell_type": "markdown",
   "metadata": {},
   "source": [
    "You can imagine this being particularly useful when we want to select only a few, meaningful data features from a large dataset to explore in more detail."
   ]
  },
  {
   "cell_type": "markdown",
   "metadata": {},
   "source": [
    "DataFrames also have a `loc` property that allows you to write more complex indexing operations on the DataFrame. Here we are indexing in to both axes of the DataFrame to get the `name` and `rating` values of the first three rows. Try evaluating `food_data.loc?` as well for more infomation."
   ]
  },
  {
   "cell_type": "code",
   "execution_count": null,
   "metadata": {},
   "outputs": [],
   "source": [
    "food_data.loc[:3, ['name', 'rating']]"
   ]
  },
  {
   "cell_type": "markdown",
   "metadata": {},
   "source": [
    "In HW1, we practiced using boolean indexing to access specific elements in NumPy arrays. We can do the same with Pandas DataFrames. In the following cell, we check for the rows that have a rating less than 3."
   ]
  },
  {
   "cell_type": "code",
   "execution_count": null,
   "metadata": {},
   "outputs": [],
   "source": [
    "food_data['rating'] < 3"
   ]
  },
  {
   "cell_type": "markdown",
   "metadata": {},
   "source": [
    "This gives us a boolean `Series`, the Pandas name for a 1D object — it is analogous to a 1D NumPy boolean array. We can then use this boolean array to get the rows that meet the condition."
   ]
  },
  {
   "cell_type": "code",
   "execution_count": null,
   "metadata": {},
   "outputs": [],
   "source": [
    "food_data[food_data['rating'] < 3]"
   ]
  },
  {
   "cell_type": "code",
   "execution_count": null,
   "metadata": {},
   "outputs": [],
   "source": [
    "food_data[food_data['rating'] == 3]"
   ]
  },
  {
   "cell_type": "markdown",
   "metadata": {},
   "source": [
    "We can also sample a specific number of rows from a dataset using the `sample` method."
   ]
  },
  {
   "cell_type": "code",
   "execution_count": null,
   "metadata": {},
   "outputs": [],
   "source": [
    "food_data.sample(5)"
   ]
  },
  {
   "cell_type": "markdown",
   "metadata": {},
   "source": [
    "### 1.2 Data Exploration with DataFrames"
   ]
  },
  {
   "cell_type": "markdown",
   "metadata": {},
   "source": [
    "In addition to indexing operations, DataFrames also provide common summary statistics for the data exploration like `mean`, `max`, etc."
   ]
  },
  {
   "cell_type": "code",
   "execution_count": null,
   "metadata": {},
   "outputs": [],
   "source": [
    "food_data['rating'].mean()"
   ]
  },
  {
   "cell_type": "code",
   "execution_count": null,
   "metadata": {},
   "outputs": [],
   "source": [
    "food_data['rating'].max()"
   ]
  },
  {
   "cell_type": "markdown",
   "metadata": {},
   "source": [
    "We can also get the shape of a dataset quickly from a DataFrame."
   ]
  },
  {
   "cell_type": "code",
   "execution_count": null,
   "metadata": {},
   "outputs": [],
   "source": [
    "food_data.shape"
   ]
  },
  {
   "cell_type": "markdown",
   "metadata": {},
   "source": [
    "The data in a DataFrame is stored in a form that is similar to a NumPy array so it can easily be converted to one."
   ]
  },
  {
   "cell_type": "code",
   "execution_count": null,
   "metadata": {},
   "outputs": [],
   "source": [
    "food_data.values"
   ]
  },
  {
   "cell_type": "markdown",
   "metadata": {},
   "source": [
    "Finally, Pandas provides some convenience functions that allow us to quickly, but minimalistically, visualize our data. This is great for initial exploration, but you'll want to implement your own plots for communicating your results."
   ]
  },
  {
   "cell_type": "code",
   "execution_count": null,
   "metadata": {},
   "outputs": [],
   "source": [
    "food_data['rating'].hist()"
   ]
  },
  {
   "cell_type": "markdown",
   "metadata": {},
   "source": [
    "## 2. Getting Familiar with the Data Set\n",
    "\n",
    "In the following section, we will take a look at some data and do some preliminary exploration. The data set we will be using is from the [World Happiness Report from 2019](https://worldhappiness.report)."
   ]
  },
  {
   "cell_type": "markdown",
   "metadata": {},
   "source": [
    "### Problem 2.1\n",
    "\n",
    "First, let's load in the data into `happiness`.\n",
    "\n",
    "**Try this!** In the cell below, load the data set in `happiness.csv`. If the following cell fails, please make sure that you have downloaded the data."
   ]
  },
  {
   "cell_type": "code",
   "execution_count": null,
   "metadata": {},
   "outputs": [],
   "source": [
    "import os\n",
    "\n",
    "data = 'utility/data'\n",
    "\n",
    "assert os.path.exists(data), \\\n",
    "    'Unable to find data; make sure that you have the `utility` directory'\n",
    "\n",
    "# your code here\n"
   ]
  },
  {
   "cell_type": "markdown",
   "metadata": {},
   "source": [
    "### Problem 2.2\n",
    "\n",
    "Next, let's get to know our data set.\n",
    "\n",
    "**Try this!** Use the cell below to investigate the data set as you answer the following questions."
   ]
  },
  {
   "cell_type": "code",
   "execution_count": null,
   "metadata": {},
   "outputs": [],
   "source": [
    "# your code here\n"
   ]
  },
  {
   "cell_type": "markdown",
   "metadata": {},
   "source": [
    "**Write-up!** How many observations are in our dataset? How many features does each one have?"
   ]
  },
  {
   "cell_type": "raw",
   "metadata": {},
   "source": [
    "# your response here\n"
   ]
  },
  {
   "cell_type": "markdown",
   "metadata": {},
   "source": [
    "**Write-up!** What are the features? What types are each of them? How are they represented?"
   ]
  },
  {
   "cell_type": "raw",
   "metadata": {},
   "source": [
    "# your response here\n"
   ]
  },
  {
   "cell_type": "markdown",
   "metadata": {},
   "source": [
    "### Problem 2.3\n",
    "\n",
    "**Write-up!** What does this data set seem to be about? If this data set was used to build a model, which features could be the targets? Which would be the inputs?\n",
    "\n",
    "Here is the data set again."
   ]
  },
  {
   "cell_type": "code",
   "execution_count": null,
   "metadata": {},
   "outputs": [],
   "source": [
    "happiness.head()"
   ]
  },
  {
   "cell_type": "raw",
   "metadata": {},
   "source": [
    "# your response here\n"
   ]
  },
  {
   "cell_type": "markdown",
   "metadata": {},
   "source": [
    "## 3. Exploring The Features\n",
    "\n",
    "Next, let's take a look at the features individually."
   ]
  },
  {
   "cell_type": "markdown",
   "metadata": {},
   "source": [
    "### Problem 3.1\n",
    "\n",
    "**Try this!** In the cell below, create an indexer that can be used to get the numerical columns of the `happiness` DataFrame and store it in `numerical`. For example, if we evaluated `happiness[numerical]`, we would get all columns with names in `numerical`."
   ]
  },
  {
   "cell_type": "code",
   "execution_count": null,
   "metadata": {},
   "outputs": [],
   "source": [
    "# your code here\n"
   ]
  },
  {
   "cell_type": "markdown",
   "metadata": {},
   "source": [
    "### Problem 3.2\n",
    "\n",
    "**Try this!** Use the cell below to investigate the data set as you answer the following questions."
   ]
  },
  {
   "cell_type": "code",
   "execution_count": null,
   "metadata": {},
   "outputs": [],
   "source": [
    "# your code here\n"
   ]
  },
  {
   "cell_type": "markdown",
   "metadata": {},
   "source": [
    "**Write-up!** What are the average values for each numeric feature?"
   ]
  },
  {
   "cell_type": "raw",
   "metadata": {},
   "source": [
    "# your response here\n"
   ]
  },
  {
   "cell_type": "markdown",
   "metadata": {},
   "source": [
    "Recall, sample standard deviation is given by\n",
    "$$\\text{std}(x) = s_X = \\sqrt{\\dfrac{\\sum_{i=1}^n (x_i - \\mu)^2}{N - 1}}.$$\n",
    "\n",
    "**Write-up!** Which feature has the largest sample standard deviation? Which one has the lowest?\n",
    "\n",
    "> Note that this is just for practicing how to retrieve these values. Since the scales for each may be different, we cannot meaningfully compare each standard deviation value."
   ]
  },
  {
   "cell_type": "raw",
   "metadata": {},
   "source": [
    "# your response here\n"
   ]
  },
  {
   "cell_type": "markdown",
   "metadata": {},
   "source": [
    "### Problem 3.3\n",
    "\n",
    "Let's implement a median finding function.\n",
    "\n",
    "**Try this!** Complete the function below so that it returns the `median` of an array `x`. Be sure to use vectorized NumPy operations to do this, but do not use NumPy's built-in median function."
   ]
  },
  {
   "cell_type": "code",
   "execution_count": null,
   "metadata": {},
   "outputs": [],
   "source": [
    "import numpy as np\n",
    "\n",
    "def compute_median(x, axis=0):\n",
    "    '''\n",
    "    Returns the median average for an array X. AXIS specifies the axis of the\n",
    "    array to take the averages across.\n",
    "    '''\n",
    "    \n",
    "    # your code here\n",
    "\n",
    "    \n",
    "    assert np.isclose(median, np.median(x)), \\\n",
    "        \"👀 Please double check your implementation's result as it does not match NumPy's.\"\n",
    "    \n",
    "    return median\n",
    "\n",
    "# even number of values\n",
    "x = np.random.rand(10)\n",
    "compute_median(x)\n",
    "\n",
    "# odd number of values\n",
    "x = np.random.rand(9)\n",
    "compute_median(x)"
   ]
  },
  {
   "cell_type": "markdown",
   "metadata": {},
   "source": [
    "Let's try using your implementation to compute the median values for each feature.\n",
    "\n",
    "**Try this!** Use the [`apply`🔗](https://pandas.pydata.org/pandas-docs/stable/reference/api/pandas.DataFrame.apply.html) method on DataFrames to compute the medians for each feature and store the result in `medians`."
   ]
  },
  {
   "cell_type": "code",
   "execution_count": null,
   "metadata": {},
   "outputs": [],
   "source": [
    "# your code here\n",
    "\n",
    "\n",
    "assert np.all(medians == happiness.median()), \\\n",
    "    '👀 There seems to be an issue with your implementation. Please double check.'\n",
    "\n",
    "medians"
   ]
  },
  {
   "cell_type": "markdown",
   "metadata": {},
   "source": [
    "### Problem 3.4\n",
    "\n",
    "Let's create some plots.\n",
    "\n",
    "**Try this!** In the cell below, create a plot with box plots for each numerical feature. You can use the `.values` property of DataFrames to get a NumPy array. Ensure that your plot has all of the necessary components.\n",
    "\n",
    "> Optional: Try using a [`violin plot`🔗](https://matplotlib.org/api/_as_gen/matplotlib.pyplot.violinplot.html?highlight=violinplot#matplotlib.pyplot.violinplot) to visualize each feature. You can use this function the same way as you would use `boxplot`."
   ]
  },
  {
   "cell_type": "code",
   "execution_count": null,
   "metadata": {},
   "outputs": [],
   "source": [
    "import matplotlib.pyplot as plt\n",
    "from utility.util import configure_plots\n",
    "\n",
    "configure_plots()\n",
    "\n",
    "# your code here\n"
   ]
  },
  {
   "cell_type": "markdown",
   "metadata": {},
   "source": [
    "**Write-up!** What does the box plot tell you about the features? Specifically, what can we say about Social support, Generosity, and Perceptions of Corruption?"
   ]
  },
  {
   "cell_type": "raw",
   "metadata": {},
   "source": [
    "# your response here\n"
   ]
  },
  {
   "cell_type": "markdown",
   "metadata": {},
   "source": [
    "## 4. Comparing Pairs of Features\n",
    "\n",
    "Now that we have a sense of what each of the features look like, we can start examining their relationships with each other."
   ]
  },
  {
   "cell_type": "markdown",
   "metadata": {},
   "source": [
    "### Problem 4.1\n",
    "\n",
    "**Try this!** Complete the function below so that it will display a scatter plot given a data frame and two column names."
   ]
  },
  {
   "cell_type": "code",
   "execution_count": null,
   "metadata": {},
   "outputs": [],
   "source": [
    "def scatter_columns(df, first_column, second_column):\n",
    "    '''\n",
    "    Creates a scatter plot of two columns of a data frame.\n",
    "    '''\n",
    "    \n",
    "    # your code here\n"
   ]
  },
  {
   "cell_type": "markdown",
   "metadata": {},
   "source": [
    "**Try this!** Using the function `scatter_columns` from above, explore various combinations of features to see which ones show some kind of trend or pattern."
   ]
  },
  {
   "cell_type": "code",
   "execution_count": null,
   "metadata": {},
   "outputs": [],
   "source": [
    "# your code here\n"
   ]
  },
  {
   "cell_type": "markdown",
   "metadata": {},
   "source": [
    "**Write-up!** Which pairs of features show the most trend? Describe these trends? Additionally, given this information, what might you conclude? Were you surprised by your plots?"
   ]
  },
  {
   "cell_type": "raw",
   "metadata": {},
   "source": [
    "# your response here\n"
   ]
  },
  {
   "cell_type": "markdown",
   "metadata": {},
   "source": [
    "### Pearson Correlation\n",
    "\n",
    "There are several ways to quantify trends, but let's pick one to discuss today. The [Pearson Correlation Coefficient](https://en.wikipedia.org/wiki/Pearson_correlation_coefficient) (commonly denoted by $\\rho$ or $r$) is a frequently used statistic for quantifying linear relationships between two variables (or features in our case). It has a value of $+1$ if there is a positive linear trend, a value of $-1$ if there is a negative trend, and a value of $0$ if there is no trend.\n",
    "\n",
    "<img src=\"utility/pics/correlation.png\" alt=\"correlation\" width=\"80%\"/>\n",
    "\n",
    "We can compute the sample correlation coefficient, $r$, with the following formula:\n",
    "\n",
    "$$\n",
    "r(X, Y) = \\dfrac{\\text{Cov}(X, Y)}{s_X s_Y} = \\dfrac{\\sum_{i=1}^n (X_i - \\mu_X)(Y_i - \\mu_Y)}{(n-1) s_X s_Y},\n",
    "$$\n",
    "\n",
    "where $X$ and $Y$ are variables, $\\mu$ is a mean, and $s$ is a [\"corrected\" sample standard deviation](https://en.wikipedia.org/wiki/Standard_deviation#Corrected_sample_standard_deviation),\n",
    "\n",
    "$$\n",
    "s_X = \\sqrt{\\displaystyle \\dfrac{1}{n-1} \\sum_{i=1}^n (X - \\mu_X)^2}.\n",
    "$$\n",
    "\n",
    "Note that NumPy's std computes an uncorrected sample standard deviation which assumes that the sample represents the population, which may not be the case since our dataset only contains a subset of all of the countries in the world. Likewise, our estimate of covariance, should also be corrected."
   ]
  },
  {
   "cell_type": "markdown",
   "metadata": {},
   "source": [
    "### Problem 4.2\n",
    "\n",
    "**Try this!** Complete the `correlation` function in the following cell so that it computes the correlation coefficient between two arrays `x` and `y`. Remember to use vectorized operations, but do not use NumPy's built in functions for variance, covariance, standard deviation, or correlation coefficient. _**Hint**: It may be helpful to work out the math for the equations. You can start by [\"foiling\"](https://en.wikipedia.org/wiki/FOIL_method) the numerator._"
   ]
  },
  {
   "cell_type": "code",
   "execution_count": null,
   "metadata": {},
   "outputs": [],
   "source": [
    "def correlation(x, y):\n",
    "    '''\n",
    "    Returns the sample Pearson Correlation Coefficient between arrays X and Y.\n",
    "    '''\n",
    "    \n",
    "    # your code here\n",
    "\n",
    "    \n",
    "    assert np.isclose(corr, np.corrcoef(x, y)[0,1]), \\\n",
    "        \"👀 Please double check your implementation's result as it does not match NumPy's.\"\n",
    "    \n",
    "    return corr\n",
    "\n",
    "correlation(happiness.Score, happiness.Generosity)"
   ]
  },
  {
   "cell_type": "markdown",
   "metadata": {},
   "source": [
    "Let's try using your implementation to compute some correlation coefficients.\n",
    "\n",
    "**Try this!** In the cell below, compute the correlation coefficient values between `Score` and every other feature, pairwise, and store them in `corrs`. _**Hint**: Use `numerical` from [Problem 3.1](#Problem-3.1) and the `.columns` property of DataFrames to get the names of the columns that you need._"
   ]
  },
  {
   "cell_type": "code",
   "execution_count": null,
   "metadata": {},
   "outputs": [],
   "source": [
    "# your code here\n",
    "\n",
    "\n",
    "# comparing your implementation to Pandas\n",
    "assert np.isclose(corrs, happiness.corr().iloc[0, :]).all(), \\\n",
    "    '👀 There seems to be an issue with your implementation. Please double check.'\n",
    "\n",
    "corrs"
   ]
  },
  {
   "cell_type": "markdown",
   "metadata": {},
   "source": [
    "Let's visualize these correlation values. To do this, we will use [Seaborn's](https://seaborn.pydata.org) `heatmap` function."
   ]
  },
  {
   "cell_type": "code",
   "execution_count": null,
   "metadata": {},
   "outputs": [],
   "source": [
    "import seaborn as sns\n",
    "\n",
    "plt.figure(figsize=(1, 6))\n",
    "sns.heatmap(corrs[:,None], cmap=sns.cm.vlag, vmin=-1)\n",
    "plt.xticks([0.5], ['Score'], rotation=0)\n",
    "plt.yticks(np.arange(corrs.shape[0]) + 0.5, happiness.loc[:,numerical].columns, rotation=0)\n",
    "plt.title('Correlation: Score vs Rest')"
   ]
  },
  {
   "cell_type": "markdown",
   "metadata": {},
   "source": [
    "🤔"
   ]
  },
  {
   "cell_type": "markdown",
   "metadata": {},
   "source": [
    "As you may have seen in the assertion at the end of an earlier cell, we can get the _Correlation Matrix_ of pairwise correlation values by using the `.corr` method on DataFrames."
   ]
  },
  {
   "cell_type": "code",
   "execution_count": null,
   "metadata": {},
   "outputs": [],
   "source": [
    "happiness.corr()"
   ]
  },
  {
   "cell_type": "code",
   "execution_count": null,
   "metadata": {},
   "outputs": [],
   "source": [
    "sns.heatmap(happiness.corr(), cmap=sns.cm.vlag, vmin=-1)\n",
    "plt.xticks(rotation=45)\n",
    "plt.title('Happiness: Correlation Matrix')"
   ]
  }
 ],
 "metadata": {
  "kernelspec": {
   "display_name": "CSE217",
   "language": "python",
   "name": "cse217"
  },
  "language_info": {
   "codemirror_mode": {
    "name": "ipython",
    "version": 3
   },
   "file_extension": ".py",
   "mimetype": "text/x-python",
   "name": "python",
   "nbconvert_exporter": "python",
   "pygments_lexer": "ipython3",
   "version": "3.7.6"
  }
 },
 "nbformat": 4,
 "nbformat_minor": 4
}

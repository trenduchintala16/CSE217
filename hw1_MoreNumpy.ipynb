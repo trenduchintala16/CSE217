{
 "cells": [
  {
   "cell_type": "markdown",
   "metadata": {},
   "source": [
    "# Hw 1: Data Science Workflow and More NumPy 📈"
   ]
  },
  {
   "cell_type": "markdown",
   "metadata": {},
   "source": [
    "Name: Tara Renduchintala\n",
    "\n",
    "Student ID: 475586\n",
    "\n",
    "Collaborators:\n"
   ]
  },
  {
   "cell_type": "markdown",
   "metadata": {},
   "source": [
    "## Instructions\n",
    "\n",
    "For this homework, work through **Lab 0 (Introduction to Python)** first. Most of the things we ask you to do in this homework are explained in the lab. In general, you should feel free to import any package that we have previously used in class. Ensure that all plots have the necessary components that a plot should have (e.g. axes labels, a title, a legend).\n",
    "\n",
    "Work your way through these problems. They will provide some more practice for working with NumPy arrays. \n",
    "> Use NumPy arrays and functions in **all** problems unless explicitly stated otherwise! \n",
    "\n",
    "Frequently **save** your notebook!\n",
    "\n",
    "### Collaborators and Sources\n",
    "Furthermore, in addition to recording your **collaborators** on this homework, please also remember to **cite/indicate all external sources** used when finishing this assignment. \n",
    "> This includes peers, TAs, and links to online sources. \n",
    "\n",
    "Note that these citations will be taken into account during the grading and regrading process.\n",
    "\n",
    "### Submission instructions\n",
    "* Submit this python notebook including your answers in the code cells as homework submission.\n",
    "* **Do not change the number of cells!** Your submission notebook should have exactly one code cell per problem. \n",
    "* Do **not** remove the `# your code here` line and add your solution **after** that line. "
   ]
  },
  {
   "cell_type": "markdown",
   "metadata": {},
   "source": [
    "## 1. Data Science Use Case I\n",
    "\n",
    "Consider the following data science use case.\n",
    "\n",
    "> *Assume you just landed a great analytical job with MegaTelCo, one of the largest telecommunication firms in the United States. They are having a major problem with customer retention in their wireless business. In the mid-Atlantic region, 20% of cell phone customers leave when their contracts expire, and it is getting increasingly difficult to acquire new customers. Since the cell phone market is now saturated, the huge growth in the wireless market has tapered off. Communications companies are now engaged in battles to attract each other’s customers while retaining their own. Customers switching from one company to another is called churn, and it is expensive all around: one company must spend on incentives to attract a customer while another company loses revenue when the customer departs.\n",
    "You have been called in to help understand the problem and to devise a solution. Attracting new customers is much more expensive than retaining existing ones, so a good deal of marketing budget is allocated to prevent churn. Marketing has already designed a special retention offer. Your task is to devise a precise, step-by-step plan for how the data science team should use MegaTelCo’s vast data resources to decide which customers should be offered the special retention deal prior to the expiration of their contracts.*\n",
    "\n",
    "### Problem 1.1\n",
    "\n",
    "**Write-up!** Is this a scientific, social, or business problem? Briefly justify your answer. "
   ]
  },
  {
   "cell_type": "raw",
   "metadata": {},
   "source": [
    "# your response here\n",
    "This is a business problem because the problem is how to retain customers prior to the expiration of their contracts. This translates into the profitability of the company and thus remains a business problem. "
   ]
  },
  {
   "cell_type": "markdown",
   "metadata": {},
   "source": [
    "### Problem 1.2\n",
    "\n",
    "**Write-up!** Using the **data science workflow** discussed in class, describe how you would takle this task. Think carefully about what data you might use and how they would be used. Specifically, how should MegaTelCo choose a set of customers to receive their offer in order to best reduce churn for a particular incentive budget?"
   ]
  },
  {
   "cell_type": "raw",
   "metadata": {},
   "source": [
    "# your response here\n",
    "Using the data provided, I would take a subsect of people who have different ranges of how many times they have previously renewed their contracts. Then, I would take the ones who have not previously renewed their contract and offer them the special. Additionally, I would use data on customer preferences and see if any other company is meeting their needs. That way the training data can be build upon the number of renewals previously, customer preferences, and other companies. Then, offer some the special retention offer. See what the results are based upon those features and and then develop a model. "
   ]
  },
  {
   "cell_type": "markdown",
   "metadata": {},
   "source": [
    "## 2. Data Science Use Case II\n",
    "\n",
    "Consider the following data science use case.\n",
    "\n",
    "> *Congratulations! You’ve just been hired to lead the data science efforts at DataSciencester, a not-for-profit  social network for data scientists. It’s your first day on the job at DataSciencester, and the VP of Networking is full of questions about the DataSciencester users.\n",
    "In particular, he wants you to identify who the “key connectors” are among data scientists to better understand the data science community, its structure and the roles of its members.*\n",
    "\n",
    "### Problem 2.1\n",
    "\n",
    "**Write-up!** Is this a scientific, social, or business problem? Briefly justify your answer. "
   ]
  },
  {
   "cell_type": "raw",
   "metadata": {},
   "source": [
    "# your response here\n",
    "This is a social problem because you are interacting with people and the way that they interact with others and their subject matter."
   ]
  },
  {
   "cell_type": "markdown",
   "metadata": {},
   "source": [
    "### Problem 2.2\n",
    "\n",
    "**Write-up!** Using the **data science workflow** discussed in class, describe how you would takle this task. Think carefully about what data you might use and how they would be used to derive a solution and how you would present the results to the VP of Networking. "
   ]
  },
  {
   "cell_type": "raw",
   "metadata": {},
   "source": [
    "# your response here\n",
    "I would meet with various people and see how many people within the community they know as well as their roles. Furthermore I will take their opinion of the structure and roles and. Based upon these answers, I would be able to build a model of who knows the most people and the most about the data science community (based upon known facts and commonalities with other scientist's answers). "
   ]
  },
  {
   "cell_type": "markdown",
   "metadata": {},
   "source": [
    "## 3. Timing Comparison\n",
    "\n",
    "There were some questions about why we emphasize NumPy functions and indexing so intensely. To help explain and motivate this, let's do some performance comparisons."
   ]
  },
  {
   "cell_type": "code",
   "execution_count": 1,
   "metadata": {},
   "outputs": [],
   "source": [
    "# run me!\n",
    "import numpy as np"
   ]
  },
  {
   "cell_type": "markdown",
   "metadata": {},
   "source": [
    "For this experiment, we will be testing various operations with random arrays. Here is an example of how you can generate a random array using `np.random.rand`."
   ]
  },
  {
   "cell_type": "code",
   "execution_count": 2,
   "metadata": {},
   "outputs": [
    {
     "data": {
      "text/plain": [
       "array([ 0.31555363,  0.17272925,  0.67412851,  0.57716051,  0.0702417 ,\n",
       "        0.63493322,  0.58991738,  0.33399087,  0.59956305,  0.64304824])"
      ]
     },
     "execution_count": 2,
     "metadata": {},
     "output_type": "execute_result"
    }
   ],
   "source": [
    "np.random.rand(10)"
   ]
  },
  {
   "cell_type": "markdown",
   "metadata": {},
   "source": [
    "### Problem 3.1\n",
    "\n",
    "**Implement this!** Complete the function below so that it returns a random array of size `n`. Assign your new array to the `result` variable."
   ]
  },
  {
   "cell_type": "code",
   "execution_count": 3,
   "metadata": {},
   "outputs": [],
   "source": [
    "def generate_random_array(n):\n",
    "    '''Returns a random array of a given shape.'''\n",
    "    \n",
    "    # your code here\n",
    "\n",
    "    result = np.random.rand(n)\n",
    "    return result"
   ]
  },
  {
   "cell_type": "markdown",
   "metadata": {},
   "source": [
    "Let's try it out! You should see an array similar to the one from earlier."
   ]
  },
  {
   "cell_type": "code",
   "execution_count": 4,
   "metadata": {},
   "outputs": [
    {
     "data": {
      "text/plain": [
       "array([ 0.68748117,  0.88874759,  0.70821506,  0.125596  ,  0.3273269 ,\n",
       "        0.22741987,  0.75970292,  0.67667034,  0.23922226,  0.64835748])"
      ]
     },
     "execution_count": 4,
     "metadata": {},
     "output_type": "execute_result"
    }
   ],
   "source": [
    "generate_random_array(10)"
   ]
  },
  {
   "cell_type": "markdown",
   "metadata": {},
   "source": [
    "### 3.1 Summing Arrays\n",
    "\n",
    "Let's try a sum operation. There are two ways of computing the sum of an array using built-in features. The first is to use a `for` loop and iterate through the values in an array. The second is to use the `sum` function."
   ]
  },
  {
   "cell_type": "markdown",
   "metadata": {},
   "source": [
    "### Problem 3.2\n",
    "\n",
    "**Implement this!** Complete the function below so that it returns the sum of an array `a`, making sure to use a `for` loop. Again, assign your result to the `result` variable."
   ]
  },
  {
   "cell_type": "code",
   "execution_count": 5,
   "metadata": {},
   "outputs": [],
   "source": [
    "def loop_sum(a):\n",
    "    '''Computes the sum of array A using a for loop'''\n",
    "    result = 0\n",
    "    # your code here\n",
    "    for x in a:\n",
    "        result += x\n",
    "    \n",
    "    return result"
   ]
  },
  {
   "cell_type": "markdown",
   "metadata": {},
   "source": [
    "Let's check that your function works."
   ]
  },
  {
   "cell_type": "code",
   "execution_count": 6,
   "metadata": {},
   "outputs": [
    {
     "data": {
      "text/plain": [
       "'Nice!'"
      ]
     },
     "execution_count": 6,
     "metadata": {},
     "output_type": "execute_result"
    }
   ],
   "source": [
    "an_array = generate_random_array(100)\n",
    "\n",
    "'Nice!' if loop_sum(an_array) == sum(an_array) else 'Something went wrong...'"
   ]
  },
  {
   "cell_type": "markdown",
   "metadata": {},
   "source": [
    "### Problem 3.3\n",
    "\n",
    "Now that we have a working `for` loop sum implementation, `loop_sum`, let's compare its performance to both the Python built-in `sum` function and the NumPy `np.sum` function. We will use an [IPython magic command 🧙‍♀️](https://ipython.readthedocs.io/en/stable/interactive/tutorial.html#magic-functions) (I'm not kidding) called `%timeit`. This function will run a given command repeatedly and report back the mean runtime and standard deviation."
   ]
  },
  {
   "cell_type": "code",
   "execution_count": 7,
   "metadata": {},
   "outputs": [
    {
     "name": "stdout",
     "output_type": "stream",
     "text": [
      "1000 loops, best of 3: 1.05 ms per loop\n",
      "1000 loops, best of 3: 883 µs per loop\n",
      "The slowest run took 1176.76 times longer than the fastest. This could mean that an intermediate result is being cached.\n",
      "100000 loops, best of 3: 6.84 µs per loop\n"
     ]
    }
   ],
   "source": [
    "another_array = generate_random_array(10000)\n",
    "\n",
    "%timeit loop_sum(another_array)\n",
    "%timeit sum(another_array)\n",
    "%timeit np.sum(another_array)"
   ]
  },
  {
   "cell_type": "markdown",
   "metadata": {},
   "source": [
    "**Write up!** What do you notice about these outputs? What would happen if you added more dimensions to your array? What do these results tell us?"
   ]
  },
  {
   "cell_type": "raw",
   "metadata": {},
   "source": [
    "# your response here\n",
    "The NumPy sum function was a lot faster than the loop function and was faster than the sum function. If we madded more dimensions to the array, it would take much longer. These results tell us that the NumPy np.sum function is a lot more efficient in producing the sum of all the elements in an array. "
   ]
  },
  {
   "cell_type": "markdown",
   "metadata": {},
   "source": [
    "### 3.2 Finding a Value\n",
    "\n",
    "In Lab 0 and HW 1, we needed to find the age and class of the student from a roster who would graduate first. Let's use this set up to do another comparison. Here is the data that we worked with."
   ]
  },
  {
   "cell_type": "code",
   "execution_count": 8,
   "metadata": {},
   "outputs": [],
   "source": [
    "names = ['Billy','Meghan','Jeff','Alex','Cate']\n",
    "roster = np.array([\n",
    "    [50, 2021],\n",
    "    [18, 2020],\n",
    "    [21, 2019],\n",
    "    [21, 2021],\n",
    "    [21, 2020]\n",
    "])"
   ]
  },
  {
   "cell_type": "markdown",
   "metadata": {},
   "source": [
    "In Problem 7 from HW 1, we used the Python built-in `min` function with a lambda to accomplish this for a `List` version of the roster. What would happen if we had used the same method to do the same for a NumPy array?"
   ]
  },
  {
   "cell_type": "code",
   "execution_count": 9,
   "metadata": {},
   "outputs": [
    {
     "data": {
      "text/plain": [
       "array([  21, 2019])"
      ]
     },
     "execution_count": 9,
     "metadata": {},
     "output_type": "execute_result"
    }
   ],
   "source": [
    "min(roster, key=lambda student: student[1])"
   ]
  },
  {
   "cell_type": "markdown",
   "metadata": {},
   "source": [
    "An appropriate NumPy equivalent of the code is this:"
   ]
  },
  {
   "cell_type": "code",
   "execution_count": 10,
   "metadata": {},
   "outputs": [
    {
     "data": {
      "text/plain": [
       "array([  21, 2019])"
      ]
     },
     "execution_count": 10,
     "metadata": {},
     "output_type": "execute_result"
    }
   ],
   "source": [
    "roster[np.argmin(roster[:, 1])]"
   ]
  },
  {
   "cell_type": "markdown",
   "metadata": {},
   "source": [
    "### Problem 3.4\n",
    "\n",
    "Before we check out the performance of each of these implementations, let's expand our roster a bit. The following cell, generates a new roster with entries for 1000 students."
   ]
  },
  {
   "cell_type": "code",
   "execution_count": 11,
   "metadata": {},
   "outputs": [],
   "source": [
    "roster = np.array([np.random.randint(16, 100, size=1000),\n",
    "                   np.random.randint(2018, 2022, size=1000)]).T"
   ]
  },
  {
   "cell_type": "markdown",
   "metadata": {},
   "source": [
    "Here's a preview of the new roster containing the first ten rows in the array:"
   ]
  },
  {
   "cell_type": "code",
   "execution_count": 12,
   "metadata": {},
   "outputs": [
    {
     "data": {
      "text/plain": [
       "array([[  89, 2021],\n",
       "       [  90, 2021],\n",
       "       [  73, 2019],\n",
       "       [  45, 2020],\n",
       "       [  50, 2019],\n",
       "       [  18, 2020],\n",
       "       [  66, 2019],\n",
       "       [  65, 2020],\n",
       "       [  54, 2020],\n",
       "       [  60, 2018]])"
      ]
     },
     "execution_count": 12,
     "metadata": {},
     "output_type": "execute_result"
    }
   ],
   "source": [
    "roster[:10, :]"
   ]
  },
  {
   "cell_type": "markdown",
   "metadata": {},
   "source": [
    "Now we are ready to evaluate these implementations using the `%timeit` magic command from earlier. "
   ]
  },
  {
   "cell_type": "code",
   "execution_count": 13,
   "metadata": {},
   "outputs": [
    {
     "name": "stdout",
     "output_type": "stream",
     "text": [
      "1000 loops, best of 3: 311 µs per loop\n",
      "The slowest run took 14.66 times longer than the fastest. This could mean that an intermediate result is being cached.\n",
      "100000 loops, best of 3: 3 µs per loop\n"
     ]
    }
   ],
   "source": [
    "%timeit min(roster, key=lambda student: student[1])\n",
    "%timeit roster[np.argmin(roster[:, 1])]"
   ]
  },
  {
   "cell_type": "markdown",
   "metadata": {},
   "source": [
    "**Write up!** What do you notice about these outputs? What would happen if you added more dimensions to your array? What do these results tell us?"
   ]
  },
  {
   "cell_type": "raw",
   "metadata": {},
   "source": [
    "# your response here\n",
    "The np.argmin function took a lot less time than the build in min funcito using a lambda. Again, if we added more dimensions to the array, the min function would take significantly more time. These results tell us that the NumPy np.argmin results are a lot faster and efficient. "
   ]
  },
  {
   "cell_type": "markdown",
   "metadata": {},
   "source": [
    "## 4. Indexing Review\n",
    "\n",
    "Indexing, especially with NumPy, can be a tricky feature to truly wrap one's head around, but it the benefits of (working towards) mastering it make it a worthy endeavor. The more practice you get, the easier it will become — eventually you won't be able to even imagine how else you would do things.\n",
    "\n",
    "In this section, we will start with some review and then move on to more complex features."
   ]
  },
  {
   "cell_type": "markdown",
   "metadata": {},
   "source": [
    "### 4.1 Basic Indexing"
   ]
  },
  {
   "cell_type": "markdown",
   "metadata": {},
   "source": [
    "At the risk of belaboring this topic, let's quickly do some practicing. The following cell produces `yet_another_array` using the `arange` [(array range) NumPy function](https://docs.scipy.org/doc/numpy-1.15.0/reference/generated/numpy.arange.html), which we will use in the next few problems."
   ]
  },
  {
   "cell_type": "code",
   "execution_count": 14,
   "metadata": {},
   "outputs": [
    {
     "data": {
      "text/plain": [
       "array([0, 1, 2, 3, 4, 5, 6, 7, 8, 9])"
      ]
     },
     "execution_count": 14,
     "metadata": {},
     "output_type": "execute_result"
    }
   ],
   "source": [
    "yet_another_array = np.arange(10)\n",
    "yet_another_array"
   ]
  },
  {
   "cell_type": "markdown",
   "metadata": {},
   "source": [
    "### Problem 4.1\n",
    "\n",
    "**Implement this!** Retrieve the 4th element of `yet_another_array`."
   ]
  },
  {
   "cell_type": "code",
   "execution_count": 15,
   "metadata": {},
   "outputs": [
    {
     "data": {
      "text/plain": [
       "4"
      ]
     },
     "execution_count": 15,
     "metadata": {},
     "output_type": "execute_result"
    }
   ],
   "source": [
    "# your code here\n",
    "yet_another_array[4]"
   ]
  },
  {
   "cell_type": "markdown",
   "metadata": {},
   "source": [
    "### Problem 4.2\n",
    "\n",
    "Here's something new: specifically for NumPy arrays, you can also pass in a Python list or NumPy array of indicies to retrieve.\n",
    "\n",
    "For example, `some_array[[0, 2, 4, 6]]`.\n",
    "\n",
    "\n",
    "**Implement this!** Retrieve the 2nd, 5th, and 9th elements of `yet_another_array`."
   ]
  },
  {
   "cell_type": "code",
   "execution_count": 16,
   "metadata": {},
   "outputs": [
    {
     "data": {
      "text/plain": [
       "array([2, 5, 9])"
      ]
     },
     "execution_count": 16,
     "metadata": {},
     "output_type": "execute_result"
    }
   ],
   "source": [
    "# your code here\n",
    "yet_another_array[[2, 5, 9]]"
   ]
  },
  {
   "cell_type": "markdown",
   "metadata": {},
   "source": [
    "### Problem 4.3"
   ]
  },
  {
   "cell_type": "markdown",
   "metadata": {},
   "source": [
    "Let's do this with a 2D array, too. Here we will generate `a_2d_array` using the `np.random.rand` function."
   ]
  },
  {
   "cell_type": "code",
   "execution_count": 17,
   "metadata": {},
   "outputs": [
    {
     "data": {
      "text/plain": [
       "array([[ 0.2788243 ,  0.89913834,  0.23477443,  0.67760853,  0.23196804],\n",
       "       [ 0.22427181,  0.42508435,  0.45073527,  0.92333717,  0.62922428],\n",
       "       [ 0.93180075,  0.19286937,  0.86293233,  0.25634524,  0.97146452],\n",
       "       [ 0.01151851,  0.77118764,  0.7811787 ,  0.77748632,  0.5547647 ],\n",
       "       [ 0.90243715,  0.32113242,  0.6069807 ,  0.44357599,  0.06175906]])"
      ]
     },
     "execution_count": 17,
     "metadata": {},
     "output_type": "execute_result"
    }
   ],
   "source": [
    "a_2d_array = np.random.rand(5, 5)\n",
    "a_2d_array"
   ]
  },
  {
   "cell_type": "markdown",
   "metadata": {},
   "source": [
    "Remember that you can index into a 2D array like this: `another_2D_array[row, column]`, where `row` and `column` are indicies, slices, `:`s, or some mix of these three."
   ]
  },
  {
   "cell_type": "markdown",
   "metadata": {},
   "source": [
    "**Implement this!** Retrieve the value at position (3, 4) from `a_2d_array`."
   ]
  },
  {
   "cell_type": "code",
   "execution_count": 18,
   "metadata": {},
   "outputs": [
    {
     "data": {
      "text/plain": [
       "0.55476469666797468"
      ]
     },
     "execution_count": 18,
     "metadata": {},
     "output_type": "execute_result"
    }
   ],
   "source": [
    "# your code here\n",
    "a_2d_array[3,4]"
   ]
  },
  {
   "cell_type": "markdown",
   "metadata": {},
   "source": [
    "### 4.2 Slice Indexing\n",
    "\n",
    "You've already gotten familiar with slices, but here is some more practice."
   ]
  },
  {
   "cell_type": "markdown",
   "metadata": {},
   "source": [
    "### Problem 4.4\n",
    "\n",
    "**Implement this!** Retrieve the 6th, 7th, and 8th elements of `yet_another_array`."
   ]
  },
  {
   "cell_type": "code",
   "execution_count": 19,
   "metadata": {},
   "outputs": [
    {
     "data": {
      "text/plain": [
       "array([6, 7, 8])"
      ]
     },
     "execution_count": 19,
     "metadata": {},
     "output_type": "execute_result"
    }
   ],
   "source": [
    "# your code here\n",
    "yet_another_array[[6, 7, 8]]"
   ]
  },
  {
   "cell_type": "markdown",
   "metadata": {},
   "source": [
    "### Problem 4.5"
   ]
  },
  {
   "cell_type": "markdown",
   "metadata": {},
   "source": [
    "Again, we can do this with a 2D array, too. Here is a reminder of what `a_2d_array` looks like."
   ]
  },
  {
   "cell_type": "code",
   "execution_count": 20,
   "metadata": {},
   "outputs": [
    {
     "data": {
      "text/plain": [
       "array([[ 0.2788243 ,  0.89913834,  0.23477443,  0.67760853,  0.23196804],\n",
       "       [ 0.22427181,  0.42508435,  0.45073527,  0.92333717,  0.62922428],\n",
       "       [ 0.93180075,  0.19286937,  0.86293233,  0.25634524,  0.97146452],\n",
       "       [ 0.01151851,  0.77118764,  0.7811787 ,  0.77748632,  0.5547647 ],\n",
       "       [ 0.90243715,  0.32113242,  0.6069807 ,  0.44357599,  0.06175906]])"
      ]
     },
     "execution_count": 20,
     "metadata": {},
     "output_type": "execute_result"
    }
   ],
   "source": [
    "a_2d_array"
   ]
  },
  {
   "cell_type": "markdown",
   "metadata": {},
   "source": [
    "**Implement this!** Retrieve the values in the 3rd column of `a_2d_array`."
   ]
  },
  {
   "cell_type": "code",
   "execution_count": 21,
   "metadata": {},
   "outputs": [
    {
     "data": {
      "text/plain": [
       "array([ 0.67760853,  0.92333717,  0.25634524,  0.77748632,  0.44357599])"
      ]
     },
     "execution_count": 21,
     "metadata": {},
     "output_type": "execute_result"
    }
   ],
   "source": [
    "# your code here\n",
    "a_2d_array[:,3]"
   ]
  },
  {
   "cell_type": "markdown",
   "metadata": {},
   "source": [
    "### 4.3 Logical Indexing\n",
    "\n",
    "Now for something complete new! You might be interested in finding all of the values in an array that fulfills some condition like _get all values greater than 5_. NumPy enables this be supporting [**logical indexing**](https://docs.scipy.org/doc/numpy-1.13.0/user/basics.indexing.html#boolean-or-mask-index-arrays).\n",
    "\n",
    "This idea is also referred to as **masking**. You can use an array of boolean values _of the same shape_ as the target array as the \"index\" into the target array. This will return all of the values that are in the same position as the `True` values from the boolean arrays. These logical arrays are called \"masks\" because they are analogous to masks, which let some of the underlying surface show through but hide the rest."
   ]
  },
  {
   "cell_type": "markdown",
   "metadata": {},
   "source": [
    "Let's try making our first logical array. In the cell below, we use a comparison operation on `yet_another_array`, returning an array of the same size with `True` in the positions where the values meet the condition."
   ]
  },
  {
   "cell_type": "code",
   "execution_count": 22,
   "metadata": {},
   "outputs": [
    {
     "data": {
      "text/plain": [
       "array([False, False, False, False, False, False,  True,  True,  True,  True], dtype=bool)"
      ]
     },
     "execution_count": 22,
     "metadata": {},
     "output_type": "execute_result"
    }
   ],
   "source": [
    "yet_another_array > 5"
   ]
  },
  {
   "cell_type": "markdown",
   "metadata": {},
   "source": [
    "Now let's see how this array \"lines up\" with `yet_another_array`."
   ]
  },
  {
   "cell_type": "code",
   "execution_count": 23,
   "metadata": {},
   "outputs": [
    {
     "data": {
      "text/plain": [
       "array([0, 1, 2, 3, 4, 5, 6, 7, 8, 9])"
      ]
     },
     "execution_count": 23,
     "metadata": {},
     "output_type": "execute_result"
    }
   ],
   "source": [
    "yet_another_array"
   ]
  },
  {
   "cell_type": "markdown",
   "metadata": {},
   "source": [
    "Here is another example using an array that is not sorted already."
   ]
  },
  {
   "cell_type": "code",
   "execution_count": 24,
   "metadata": {},
   "outputs": [
    {
     "data": {
      "text/plain": [
       "array([0, 2, 4, 9, 6, 7, 1, 5, 8, 3])"
      ]
     },
     "execution_count": 24,
     "metadata": {},
     "output_type": "execute_result"
    }
   ],
   "source": [
    "shuffled_array = np.random.permutation(yet_another_array)\n",
    "shuffled_array"
   ]
  },
  {
   "cell_type": "code",
   "execution_count": 25,
   "metadata": {},
   "outputs": [
    {
     "data": {
      "text/plain": [
       "array([False, False, False,  True,  True,  True, False, False,  True, False], dtype=bool)"
      ]
     },
     "execution_count": 25,
     "metadata": {},
     "output_type": "execute_result"
    }
   ],
   "source": [
    "shuffled_array > 5"
   ]
  },
  {
   "cell_type": "markdown",
   "metadata": {},
   "source": [
    "Is this what you would expect? Let's actually get those values."
   ]
  },
  {
   "cell_type": "code",
   "execution_count": 26,
   "metadata": {},
   "outputs": [
    {
     "data": {
      "text/plain": [
       "array([9, 6, 7, 8])"
      ]
     },
     "execution_count": 26,
     "metadata": {},
     "output_type": "execute_result"
    }
   ],
   "source": [
    "shuffled_array[shuffled_array > 5]"
   ]
  },
  {
   "cell_type": "markdown",
   "metadata": {},
   "source": [
    "### Problem 4.6\n",
    "\n",
    "**Implement this!** Retrieve the elements of `yet_another_array` that are even (hint: `%`)."
   ]
  },
  {
   "cell_type": "code",
   "execution_count": 29,
   "metadata": {},
   "outputs": [
    {
     "data": {
      "text/plain": [
       "array([0, 2, 4, 6, 8])"
      ]
     },
     "execution_count": 29,
     "metadata": {},
     "output_type": "execute_result"
    }
   ],
   "source": [
    "# your code here\n",
    "yet_another_array[yet_another_array % 2 == 0]"
   ]
  },
  {
   "cell_type": "markdown",
   "metadata": {},
   "source": [
    "And that's it!"
   ]
  }
 ],
 "metadata": {
  "kernelspec": {
   "display_name": "Python 3",
   "language": "python",
   "name": "python3"
  },
  "language_info": {
   "codemirror_mode": {
    "name": "ipython",
    "version": 3
   },
   "file_extension": ".py",
   "mimetype": "text/x-python",
   "name": "python",
   "nbconvert_exporter": "python",
   "pygments_lexer": "ipython3",
   "version": "3.7.2"
  }
 },
 "nbformat": 4,
 "nbformat_minor": 4
}

{
 "cells": [
  {
   "cell_type": "markdown",
   "metadata": {},
   "source": [
    "# Lab 1: Data Exploration with Python 📊"
   ]
  },
  {
   "cell_type": "markdown",
   "metadata": {},
   "source": [
    "## Objectives\n",
    "1. Introduction to Data, Data Science, and the Data Analysis Workflow\n",
    "2. Getting to know and Practicing Python, iPython notebooks, Syntax, Data Structures"
   ]
  },
  {
   "cell_type": "markdown",
   "metadata": {},
   "source": [
    "## Outline\n",
    "\n",
    "1. [What is Data Science?](#1.-What-is-Data-Science?)\n",
    "2. [The Data Science Workflow](#2.-The-Data-Science-Workflow)\n",
    "3. [Studying Pretty Flowers](#3.-Studying-Pretty-Flowers)\n",
    "    1. [Establishing the Problem](#Establishing-the-Problem)\n",
    "    2. [Acquiring and Processing Data](#Acquiring-and-Processing-Data)\n",
    "    3. [Exploring the Data](#Exploring-the-Data)\n",
    "    4. [Drawing Conclusions using Machine Learning](#Drawing-Conclusions-using-Machine-Learning)\n",
    "    5. [Communicating Your Findings](#Communicating-Your-Findings)"
   ]
  },
  {
   "cell_type": "markdown",
   "metadata": {},
   "source": [
    "## 1. What is Data Science?\n",
    "\n",
    "Data science is an interdisciplinary field that combines technical skills and domain specific knowledge to supercharge your data analysis. A good data scientist is able to bring their mathematical expertise, mastery of programming, and problem-space knowledge together to draw better, more insightful findings than would be possible otherwise. The \"Python Data Science Handbook\" describes data science this way:\n",
    "\n",
    "> [It] comprises three distinct and overlapping areas: the skills of a statistician who knows how to model and summarize datasets (which are growing ever larger); the skills of a computer scientist who can design and use algorithms to efficiently store, process, and visualize this data; and the domain expertise—what we might think of as “classical” training in a subject—necessary both to formulate the right questions and to put their answers in context.\n",
    "\n",
    "The following diagram by [Drew Conway](http://drewconway.com/zia/2013/3/26/the-data-science-venn-diagram) also gives a good summary of this:\n",
    "\n",
    "![DSvenn](utility/pics/Data_Science_VD.png)\n",
    "\n",
    "It is important to realize that data science is more than merely building models. An effective data scientist must know how to draw meaning from their findings, understanding their results in the context of the problem."
   ]
  },
  {
   "cell_type": "markdown",
   "metadata": {},
   "source": [
    "## 2. The Data Science Workflow\n",
    "\n",
    "As mentioned above, data science brings computational techniques to structured data analysis. While there is no _best_ way to structure your workflow, successful workflows all share the same traits. In lecture we saw the following pattern:\n",
    "\n",
    "<img src=\"utility/pics/workflow.png\" alt=\"datascience workflow\" width=\"80%\" />\n",
    "\n",
    "This lab condenses these elements into the following sections. However, note that these are essentially the same as those listed above.\n",
    "\n",
    "1. Establishing the problem and developing a question.\n",
    "2. Acquiring and wrangling your data.\n",
    "3. Exploring and understanding your data.\n",
    "4. Building and testing a hypothesis and drawing conclusions.\n",
    "5. Communicating your findings.\n",
    "\n",
    "The goal of this workflow is not only to guide your analyses, but also to facilitate the intelligability of your work for your audience — after all, you are trying to find patterns that will ultimately help others."
   ]
  },
  {
   "cell_type": "markdown",
   "metadata": {},
   "source": [
    "## 3. Studying Pretty Flowers\n",
    "\n",
    "Here we try to demonstrate an application of the data science workflow. We will practice each of the steps so that we become familar with them and understand why this process works."
   ]
  },
  {
   "cell_type": "markdown",
   "metadata": {},
   "source": [
    "### Establishing the Problem\n",
    "\n",
    "Let's say you are a 1930s biologist-statistician (bear with me) who wants to be able to distiguish between three different species of iris flowers. You want to develop a principled method to do this because if you can classify flowers, you can classify anything (supposedly). So can we find a way to identify the species of a new flower based on what we have observed about other flowers?\n",
    "\n",
    "![iris](utility/pics/iris_small.png)"
   ]
  },
  {
   "cell_type": "markdown",
   "metadata": {},
   "source": [
    "How would you go about tackling this problem? What kind of things, or **features**, about an iris flower do you think could help us tell what species it is?"
   ]
  },
  {
   "cell_type": "markdown",
   "metadata": {},
   "source": [
    "### Acquiring and Processing Data\n",
    "\n",
    "Now that you have established your question, it is time to start collecting data. Traditionally, this might have meant going out into the field with a ruler and measuring flowers yourself, but today, we often work with data that has already been collected (for example, logs about customer purchases or songs that a user listened to). You ask your colleague if they happened to have some data on irises and, luckily, they do -- what are the odds! She hands you a file containing her observations.\n",
    "\n",
    "First, we load our file into a list datastructure. Our file comes in a CSV format. Let's take a look at what a CSV file looks like:"
   ]
  },
  {
   "cell_type": "code",
   "execution_count": 1,
   "metadata": {},
   "outputs": [
    {
     "name": "stdout",
     "output_type": "stream",
     "text": [
      "sepal_length,sepal_width,petal_length,petal_width,species\n",
      "\n",
      "5.1,3.5,1.4,0.2,setosa\n",
      "\n",
      "4.9,3.0,1.4,0.2,setosa\n",
      "\n",
      "4.7,3.2,1.3,0.2,setosa\n",
      "\n",
      "4.6,3.1,1.5,0.2,setosa\n",
      "\n",
      "5.0,3.6,1.4,0.2,setosa\n",
      "\n",
      "5.4,3.9,1.7,0.4,setosa\n",
      "\n",
      "4.6,3.4,1.4,0.3,setosa\n",
      "\n",
      "5.0,3.4,1.5,0.2,setosa\n",
      "\n",
      "4.4,2.9,1.4,0.2,setosa\n",
      "\n"
     ]
    }
   ],
   "source": [
    "with open('utility/data/iris.csv') as myfile:\n",
    "    head = [next(myfile) for _ in range(10)]\n",
    "    \n",
    "    for item in head:\n",
    "        print(item)"
   ]
  },
  {
   "cell_type": "markdown",
   "metadata": {},
   "source": [
    "CSV stands for **C**omma **S**eparated **V**alue, which can be seen in the first few lines of our file shown above. In order to process this file in python, we must load our file into a datastructure. We are going to delimit each attribute in each line by commas, and then treat each line as a separate data point when loading into our list datastructure. The code below reflects this process. "
   ]
  },
  {
   "cell_type": "code",
   "execution_count": 2,
   "metadata": {},
   "outputs": [],
   "source": [
    "def parse_csv(line):\n",
    "    '''splits each line by comma'''\n",
    "    return line.strip().split(',')"
   ]
  },
  {
   "cell_type": "code",
   "execution_count": 3,
   "metadata": {},
   "outputs": [],
   "source": [
    "def load_data(path, parsefn):\n",
    "    '''reads file at PATH and applies PARSEFN to each line'''\n",
    "    with open(path) as file:\n",
    "        return [parsefn(line) for line in file]"
   ]
  },
  {
   "cell_type": "code",
   "execution_count": 4,
   "metadata": {},
   "outputs": [],
   "source": [
    "iris = load_data('utility/data/iris.csv', parse_csv)"
   ]
  },
  {
   "cell_type": "markdown",
   "metadata": {},
   "source": [
    "**Try This!** Evaluate `iris` to see what it is in the cell below. How would you only get the first `5` lines?"
   ]
  },
  {
   "cell_type": "code",
   "execution_count": 5,
   "metadata": {},
   "outputs": [
    {
     "data": {
      "text/plain": [
       "[['sepal_length', 'sepal_width', 'petal_length', 'petal_width', 'species'],\n",
       " ['5.1', '3.5', '1.4', '0.2', 'setosa'],\n",
       " ['4.9', '3.0', '1.4', '0.2', 'setosa'],\n",
       " ['4.7', '3.2', '1.3', '0.2', 'setosa'],\n",
       " ['4.6', '3.1', '1.5', '0.2', 'setosa']]"
      ]
     },
     "execution_count": 5,
     "metadata": {},
     "output_type": "execute_result"
    }
   ],
   "source": [
    "# your code here\n",
    "iris[:5]"
   ]
  },
  {
   "cell_type": "markdown",
   "metadata": {},
   "source": [
    "Often, the first line in a CSV file will contain the column names for the data. Note that this is not always the case as there is no standard specification for these files. You should always open the file first to check its structure."
   ]
  },
  {
   "cell_type": "markdown",
   "metadata": {},
   "source": [
    "In our case, `iris.csv` does contain column labels. \n",
    "\n",
    "```\n",
    "sepal_length,sepal_width,petal_length,petal_width,species\n",
    "5.1,3.5,1.4,0.2,setosa\n",
    "4.9,3.0,1.4,0.2,setosa\n",
    "4.7,3.2,1.3,0.2,setosa\n",
    "4.6,3.1,1.5,0.2,setosa\n",
    "```\n",
    "\n",
    "Let's separate these headings out from the data."
   ]
  },
  {
   "cell_type": "code",
   "execution_count": 6,
   "metadata": {},
   "outputs": [],
   "source": [
    "headings, data = iris[0], iris[1:]"
   ]
  },
  {
   "cell_type": "code",
   "execution_count": 7,
   "metadata": {},
   "outputs": [
    {
     "data": {
      "text/plain": [
       "['sepal_length', 'sepal_width', 'petal_length', 'petal_width', 'species']"
      ]
     },
     "execution_count": 7,
     "metadata": {},
     "output_type": "execute_result"
    }
   ],
   "source": [
    "headings"
   ]
  },
  {
   "cell_type": "markdown",
   "metadata": {},
   "source": [
    "This tells us that each observation will contain five pieces of information. The first four of these, *sepal length*, *sepal width*, *petal length*, and *petal width*, are what we typically call **features**. The last one, _species_, is what we would call a **label**, or class.\n",
    "\n",
    "**Features** are the measurements that we have taken as part of a single observation about the subject. In this case, we have measured the *sepal length*, *sepal width*, *petal length*, and *petal width* of various iris flowers."
   ]
  },
  {
   "cell_type": "markdown",
   "metadata": {},
   "source": [
    "Let's take a look at some of the observations."
   ]
  },
  {
   "cell_type": "code",
   "execution_count": 8,
   "metadata": {},
   "outputs": [
    {
     "data": {
      "text/plain": [
       "[['5.1', '3.5', '1.4', '0.2', 'setosa'],\n",
       " ['4.9', '3.0', '1.4', '0.2', 'setosa'],\n",
       " ['4.7', '3.2', '1.3', '0.2', 'setosa'],\n",
       " ['4.6', '3.1', '1.5', '0.2', 'setosa'],\n",
       " ['5.0', '3.6', '1.4', '0.2', 'setosa'],\n",
       " ['5.4', '3.9', '1.7', '0.4', 'setosa'],\n",
       " ['4.6', '3.4', '1.4', '0.3', 'setosa'],\n",
       " ['5.0', '3.4', '1.5', '0.2', 'setosa'],\n",
       " ['4.4', '2.9', '1.4', '0.2', 'setosa'],\n",
       " ['4.9', '3.1', '1.5', '0.1', 'setosa']]"
      ]
     },
     "execution_count": 8,
     "metadata": {},
     "output_type": "execute_result"
    }
   ],
   "source": [
    "data[:10]"
   ]
  },
  {
   "cell_type": "markdown",
   "metadata": {},
   "source": [
    "#### Additional Processing\n",
    "\n",
    "We will need to do some more processing of the data before we can start exploring it."
   ]
  },
  {
   "cell_type": "markdown",
   "metadata": {},
   "source": [
    "First of all, notice how all the values in `observations` are strings. This is a result of our `load_data` not being able to tell which values should be read as numbers and which should be strings. Let's address this. The first thing we can do is to replace the string labels with enumerations."
   ]
  },
  {
   "cell_type": "code",
   "execution_count": 9,
   "metadata": {},
   "outputs": [],
   "source": [
    "species = ['setosa', 'versicolor', 'virginica']"
   ]
  },
  {
   "cell_type": "markdown",
   "metadata": {},
   "source": [
    "We can call `enumerate` on this list of classes to assign numbers to the classes."
   ]
  },
  {
   "cell_type": "code",
   "execution_count": 10,
   "metadata": {},
   "outputs": [
    {
     "data": {
      "text/plain": [
       "[(0, 'setosa'), (1, 'versicolor'), (2, 'virginica')]"
      ]
     },
     "execution_count": 10,
     "metadata": {},
     "output_type": "execute_result"
    }
   ],
   "source": [
    "list(enumerate(species))"
   ]
  },
  {
   "cell_type": "markdown",
   "metadata": {},
   "source": [
    "Let's go through each observation and replace the species label with an enumeration."
   ]
  },
  {
   "cell_type": "code",
   "execution_count": 11,
   "metadata": {},
   "outputs": [],
   "source": [
    "for i, observation in enumerate(data):\n",
    "    label = observation[4]\n",
    "    \n",
    "    for number, name in enumerate(species):\n",
    "        if label == name:\n",
    "            data[i][4] = number"
   ]
  },
  {
   "cell_type": "code",
   "execution_count": 12,
   "metadata": {},
   "outputs": [
    {
     "data": {
      "text/plain": [
       "[['5.1', '3.5', '1.4', '0.2', 0],\n",
       " ['4.9', '3.0', '1.4', '0.2', 0],\n",
       " ['4.7', '3.2', '1.3', '0.2', 0],\n",
       " ['4.6', '3.1', '1.5', '0.2', 0],\n",
       " ['5.0', '3.6', '1.4', '0.2', 0]]"
      ]
     },
     "execution_count": 12,
     "metadata": {},
     "output_type": "execute_result"
    }
   ],
   "source": [
    "data[:5]"
   ]
  },
  {
   "cell_type": "markdown",
   "metadata": {},
   "source": [
    "With that done, we should go through each feature and make sure that they are `floats`."
   ]
  },
  {
   "cell_type": "code",
   "execution_count": 13,
   "metadata": {},
   "outputs": [],
   "source": [
    "for i, observation in enumerate(data):\n",
    "    features, label = observation[:4], observation[4:]\n",
    "    new_features = [float(feat) for feat in features]\n",
    "    data[i] = new_features + label"
   ]
  },
  {
   "cell_type": "code",
   "execution_count": 14,
   "metadata": {},
   "outputs": [
    {
     "data": {
      "text/plain": [
       "[[5.1, 3.5, 1.4, 0.2, 0],\n",
       " [4.9, 3.0, 1.4, 0.2, 0],\n",
       " [4.7, 3.2, 1.3, 0.2, 0],\n",
       " [4.6, 3.1, 1.5, 0.2, 0],\n",
       " [5.0, 3.6, 1.4, 0.2, 0]]"
      ]
     },
     "execution_count": 14,
     "metadata": {},
     "output_type": "execute_result"
    }
   ],
   "source": [
    "data[:5]"
   ]
  },
  {
   "cell_type": "markdown",
   "metadata": {},
   "source": [
    "Nice! Problem resolved."
   ]
  },
  {
   "cell_type": "markdown",
   "metadata": {},
   "source": [
    "#### Arrays"
   ]
  },
  {
   "cell_type": "code",
   "execution_count": 15,
   "metadata": {},
   "outputs": [],
   "source": [
    "import numpy as np"
   ]
  },
  {
   "cell_type": "markdown",
   "metadata": {},
   "source": [
    "The last thing to do before we are ready to explore is to convert our `observations` array from a `list` to a NumPy `array`. NumPy arrays are specifically designed for manipulating data and, thus, have many useful properties."
   ]
  },
  {
   "cell_type": "code",
   "execution_count": 16,
   "metadata": {},
   "outputs": [],
   "source": [
    "data = np.array(data)"
   ]
  },
  {
   "cell_type": "markdown",
   "metadata": {},
   "source": [
    "**Try this!** Let's practice `array` indexing a little more. Try getting the first `8` observations. See Lab 0 for a reminder of how to do this."
   ]
  },
  {
   "cell_type": "code",
   "execution_count": 17,
   "metadata": {},
   "outputs": [
    {
     "data": {
      "text/plain": [
       "array([[5.1, 3.5, 1.4, 0.2, 0. ],\n",
       "       [4.9, 3. , 1.4, 0.2, 0. ],\n",
       "       [4.7, 3.2, 1.3, 0.2, 0. ],\n",
       "       [4.6, 3.1, 1.5, 0.2, 0. ],\n",
       "       [5. , 3.6, 1.4, 0.2, 0. ],\n",
       "       [5.4, 3.9, 1.7, 0.4, 0. ],\n",
       "       [4.6, 3.4, 1.4, 0.3, 0. ],\n",
       "       [5. , 3.4, 1.5, 0.2, 0. ]])"
      ]
     },
     "execution_count": 17,
     "metadata": {},
     "output_type": "execute_result"
    }
   ],
   "source": [
    "# your code here\n",
    "data[:8]"
   ]
  },
  {
   "cell_type": "markdown",
   "metadata": {},
   "source": [
    "**Try this!** How about getting fancier with 2D indexing? Try to get the first *feature* from each of the last 5 observations. Check your results with your neighbor."
   ]
  },
  {
   "cell_type": "code",
   "execution_count": 18,
   "metadata": {},
   "outputs": [
    {
     "data": {
      "text/plain": [
       "array([6.7, 6.3, 6.5, 6.2, 5.9])"
      ]
     },
     "execution_count": 18,
     "metadata": {},
     "output_type": "execute_result"
    }
   ],
   "source": [
    "# your code here\n",
    "data[-5:,0]"
   ]
  },
  {
   "cell_type": "markdown",
   "metadata": {},
   "source": [
    "### Exploring the Data\n",
    "\n",
    "Arguably more important than the data itself is what the data *looks like*. There are many insights that can be drawn from visualizations of your data. For instance, you might be able to evaluate the quality of your data (eg. are there outliers?)."
   ]
  },
  {
   "cell_type": "code",
   "execution_count": 19,
   "metadata": {},
   "outputs": [],
   "source": [
    "import matplotlib.pyplot as plt\n",
    "from utility.util import configure_plots\n",
    "\n",
    "# run this cell twice to get pretty plots\n",
    "configure_plots()"
   ]
  },
  {
   "cell_type": "markdown",
   "metadata": {},
   "source": [
    "#### Box Plots\n",
    "\n",
    "One of the most effective plots to look is a simple box plot. It effectively gives you a sense of the distribution of a particular feature at a glance. The figure below is a sketch of a typical box plot.\n",
    "\n",
    "![Box plot schematic](utility/pics/box_plot_schema.png)"
   ]
  },
  {
   "cell_type": "markdown",
   "metadata": {},
   "source": [
    "The orange line indicated within the box above represents the median. The median is the midpoint (distinct from the average) of the values. The median splits the data into halves such that one half is less than the median and the other is greater."
   ]
  },
  {
   "cell_type": "markdown",
   "metadata": {},
   "source": [
    "The horizontal edges of the box, parallel to the median line, denote the first and third quartiles of the data. Whereas the median divides the data into halves, a quartile splits the data into quarters. The first quartile ($Q_1$) splits off the lowest 25% of data from the highest 75%, while the third quartile ($Q_3$) off the lowest 75% of data from the highest 25%. The median is the second quartile. "
   ]
  },
  {
   "cell_type": "markdown",
   "metadata": {},
   "source": [
    "Next, the \"whiskers\" of the plot, which extend beyond the box, attempt to give a sense of the \"spread\" of the data. These whiskers are conventionally defined as the smallest (largest if upper whisker) value within $1.5 \\; \\times \\; \\text{IQR}$, where IQR is short for _interquartile range_. For example, the lower whisker is \n",
    "\n",
    "$$\\min x \\ge Q_1 - 1.5 \\;\\times\\; \\text{IQR}$$\n",
    "\n",
    "The upper whisker is\n",
    "\n",
    "$$\\max x \\le Q_3 + 1.5 \\;\\times\\; \\text{IQR}$$\n",
    "\n",
    "In both cases, the IQR is defined as the difference between $Q_1$ and $Q_3$.\n",
    "\n",
    "$$\\text{IQR} = Q_3 - Q_1$$\n",
    "\n",
    "It should be noted that the whiskers are somewhat arbitrary and shouldn't be taken too seriously. Their purpose is specifically to give us a **sense** of what the distribution looks like. Box plots do not claim to visualize the exact distribution."
   ]
  },
  {
   "cell_type": "markdown",
   "metadata": {},
   "source": [
    "Finally, for box plots, outliers are defined as points that lie beyond the \"whiskers\", again somewhat arbitrarily. This is one of many ways to define outliers. These are typically displayed as circles above and below a box plot."
   ]
  },
  {
   "cell_type": "markdown",
   "metadata": {},
   "source": [
    "Let's make box plots for each feature in our data. Here's a refresher on the features we have."
   ]
  },
  {
   "cell_type": "code",
   "execution_count": 20,
   "metadata": {},
   "outputs": [
    {
     "data": {
      "text/plain": [
       "['sepal_length', 'sepal_width', 'petal_length', 'petal_width']"
      ]
     },
     "execution_count": 20,
     "metadata": {},
     "output_type": "execute_result"
    }
   ],
   "source": [
    "headings[:4]    # [4] was the species label"
   ]
  },
  {
   "cell_type": "markdown",
   "metadata": {},
   "source": [
    "We can use the `boxplot` method on `plt` to make the plot. Go ahead and execute the next cell."
   ]
  },
  {
   "cell_type": "code",
   "execution_count": 21,
   "metadata": {},
   "outputs": [
    {
     "data": {
      "image/png": "[encoded data removed]",
      "text/plain": [
       "<Figure size 432x288 with 1 Axes>"
      ]
     },
     "metadata": {
      "needs_background": "light"
     },
     "output_type": "display_data"
    }
   ],
   "source": [
    "plt.boxplot(data[:,:4], labels=headings[:4])\n",
    "plt.title('Box Plot')\n",
    "plt.ylabel('Measurements [cm]')\n",
    "plt.show()"
   ]
  },
  {
   "cell_type": "markdown",
   "metadata": {},
   "source": [
    "Notice that certain features, like sepal width have smaller spreads than others, like petal length. What might this mean?"
   ]
  },
  {
   "cell_type": "markdown",
   "metadata": {},
   "source": [
    "**Write-up!** Since we are in the business of classifying flowers by species, a feature that doesn't show that much variation might not be very helpful. However, there is a flaw in this conclusion. Discuss with your neighbors about what it might be and write down your answer in the cell below."
   ]
  },
  {
   "cell_type": "raw",
   "metadata": {},
   "source": [
    "# your response here\n",
    "The range of variation within the different features are not normalized, therefore some are over-represented while some are under-reperesented. "
   ]
  },
  {
   "cell_type": "markdown",
   "metadata": {},
   "source": [
    "Let's try the same plot, but this time with normalized data. Normalization is the process of scaling individual samples to have unit norm."
   ]
  },
  {
   "cell_type": "code",
   "execution_count": 22,
   "metadata": {},
   "outputs": [
    {
     "data": {
      "image/png": "[encoded data removed]",
      "text/plain": [
       "<Figure size 432x288 with 1 Axes>"
      ]
     },
     "metadata": {
      "needs_background": "light"
     },
     "output_type": "display_data"
    }
   ],
   "source": [
    "from sklearn.preprocessing import normalize\n",
    "\n",
    "plt.boxplot(normalize(data[:,:4]), labels=headings[:4])\n",
    "plt.title('Normalized Box Plot')\n",
    "plt.ylabel('Scaled Values')\n",
    "plt.show()"
   ]
  },
  {
   "cell_type": "markdown",
   "metadata": {},
   "source": [
    "**Write-up!** Did you notice any differences? If so, what might have caused them? Discuss with your neighbors and record your discussion in the cell below (you might need it later)."
   ]
  },
  {
   "cell_type": "raw",
   "metadata": {},
   "source": [
    "# your response here\n",
    "The sepal length now has less of a range, and the sepal width now has a greater range. The y-axis became the percentage difference from the average, so the variation is represented for different measurements. \n"
   ]
  },
  {
   "cell_type": "markdown",
   "metadata": {},
   "source": [
    "#### Histograms\n",
    "\n",
    "Another interesting plot to look at is a histogram. Histograms are essentially bar plots except that the vertical axis is always frequency. Whereas box plots are only good for giving a **sense** of the distribution of each feature, a histogram gives an **accurate** representation of a feature's distribution."
   ]
  },
  {
   "cell_type": "markdown",
   "metadata": {},
   "source": [
    "So why not always use histograms? You can only look at one feature at a time with a histogram since the plot is intrinsically 2D."
   ]
  },
  {
   "cell_type": "markdown",
   "metadata": {},
   "source": [
    "Let's try making a histogram for sepal length. The first thing we will need to do is to pull out the sepal length values from the data. Once again, here is a reminder of the feature names."
   ]
  },
  {
   "cell_type": "code",
   "execution_count": 23,
   "metadata": {},
   "outputs": [
    {
     "data": {
      "text/plain": [
       "['sepal_length', 'sepal_width', 'petal_length', 'petal_width']"
      ]
     },
     "execution_count": 23,
     "metadata": {},
     "output_type": "execute_result"
    }
   ],
   "source": [
    "headings[:4]"
   ]
  },
  {
   "cell_type": "markdown",
   "metadata": {},
   "source": [
    "**Try this!** Go ahead and pull out these values and assign them to the variable `sepal_length` in the cell below."
   ]
  },
  {
   "cell_type": "code",
   "execution_count": 24,
   "metadata": {},
   "outputs": [],
   "source": [
    "# your code here\n",
    "sepal_length = data[:,0]"
   ]
  },
  {
   "cell_type": "markdown",
   "metadata": {},
   "source": [
    "Let's plot! In the cell below, we are using the `hist` method on `plt` to produce a histogram with 30 bins. A histogram groups the data values into bins in order to count them.\n",
    "\n",
    "Try changing the number of bins to see what happens."
   ]
  },
  {
   "cell_type": "code",
   "execution_count": 25,
   "metadata": {},
   "outputs": [
    {
     "data": {
      "image/png": "[encoded data removed]",
      "text/plain": [
       "<Figure size 432x288 with 1 Axes>"
      ]
     },
     "metadata": {
      "needs_background": "light"
     },
     "output_type": "display_data"
    }
   ],
   "source": [
    "plt.hist(sepal_length, bins=30)\n",
    "plt.title('Histogram of Iris Sepal Length')\n",
    "plt.ylabel('Frequency')\n",
    "plt.show()"
   ]
  },
  {
   "cell_type": "markdown",
   "metadata": {},
   "source": [
    "Okay, so not very informative. It would be very helpful to distinquish the distribution of each species."
   ]
  },
  {
   "cell_type": "code",
   "execution_count": 26,
   "metadata": {},
   "outputs": [
    {
     "data": {
      "text/plain": [
       "['setosa', 'versicolor', 'virginica']"
      ]
     },
     "execution_count": 26,
     "metadata": {},
     "output_type": "execute_result"
    }
   ],
   "source": [
    "species"
   ]
  },
  {
   "cell_type": "markdown",
   "metadata": {},
   "source": [
    "To do this, we can use the `where` method on `np` to retrieve the indices of the values that correspond to each species. Recall that `observations[:, 4]` holds the species for each observation. Calling `species.index('setosa')` returns the index of the string `'setosa'` in the species list."
   ]
  },
  {
   "cell_type": "code",
   "execution_count": 27,
   "metadata": {},
   "outputs": [],
   "source": [
    "setosa = np.where(data[:,4] == species.index('setosa'))\n",
    "versicolor = np.where(data[:,4] == species.index('versicolor'))\n",
    "virginica = np.where(data[:,4] == species.index('virginica'))"
   ]
  },
  {
   "cell_type": "markdown",
   "metadata": {},
   "source": [
    "We can use these index arrays to, well, index into the `sepal_length` array.\n",
    "\n",
    "**Try this!** Evaluate these index arrays to see what they contain.\n"
   ]
  },
  {
   "cell_type": "code",
   "execution_count": 28,
   "metadata": {},
   "outputs": [
    {
     "data": {
      "text/plain": [
       "((array([ 0,  1,  2,  3,  4,  5,  6,  7,  8,  9, 10, 11, 12, 13, 14, 15, 16,\n",
       "         17, 18, 19, 20, 21, 22, 23, 24, 25, 26, 27, 28, 29, 30, 31, 32, 33,\n",
       "         34, 35, 36, 37, 38, 39, 40, 41, 42, 43, 44, 45, 46, 47, 48, 49]),),\n",
       " (array([50, 51, 52, 53, 54, 55, 56, 57, 58, 59, 60, 61, 62, 63, 64, 65, 66,\n",
       "         67, 68, 69, 70, 71, 72, 73, 74, 75, 76, 77, 78, 79, 80, 81, 82, 83,\n",
       "         84, 85, 86, 87, 88, 89, 90, 91, 92, 93, 94, 95, 96, 97, 98, 99]),),\n",
       " (array([100, 101, 102, 103, 104, 105, 106, 107, 108, 109, 110, 111, 112,\n",
       "         113, 114, 115, 116, 117, 118, 119, 120, 121, 122, 123, 124, 125,\n",
       "         126, 127, 128, 129, 130, 131, 132, 133, 134, 135, 136, 137, 138,\n",
       "         139, 140, 141, 142, 143, 144, 145, 146, 147, 148, 149]),))"
      ]
     },
     "execution_count": 28,
     "metadata": {},
     "output_type": "execute_result"
    }
   ],
   "source": [
    "# your code here\n",
    "setosa, versicolor, virginica"
   ]
  },
  {
   "cell_type": "markdown",
   "metadata": {},
   "source": [
    "In the cell below, we prepare a list containing arrays of sepal length values for each species."
   ]
  },
  {
   "cell_type": "code",
   "execution_count": 29,
   "metadata": {},
   "outputs": [],
   "source": [
    "by_species = [sepal_length[setosa], sepal_length[versicolor], sepal_length[virginica]]"
   ]
  },
  {
   "cell_type": "markdown",
   "metadata": {},
   "source": [
    "Finally, we can pass this list of arrays into `plt.hist`, similarly to before. Here we also ask the function to plot the data so that the counts for each species are stacked.\n",
    "\n",
    "**Try this!** What happens when you set stacked to `False`?"
   ]
  },
  {
   "cell_type": "code",
   "execution_count": 30,
   "metadata": {},
   "outputs": [
    {
     "data": {
      "image/png": "[encoded data removed]",
      "text/plain": [
       "<Figure size 432x288 with 1 Axes>"
      ]
     },
     "metadata": {
      "needs_background": "light"
     },
     "output_type": "display_data"
    }
   ],
   "source": [
    "plt.hist(by_species, bins=30, stacked=False, label=species)\n",
    "plt.title('Stacked Histogram of Iris Sepal Length')\n",
    "plt.ylabel('Frequency')\n",
    "plt.legend()\n",
    "plt.show()"
   ]
  },
  {
   "cell_type": "markdown",
   "metadata": {},
   "source": [
    "Much better! Here we can clearly see that *I. setosa* sepal lengths tend to be smaller than both *I. versicolor* and *I. virginica*. We can also see that the sepal lengths for *I. versicolor* and *I. virginica* overlap a lot. If we were to build a classification model by hand, we could be fairly confident about being able to tell setosas from the other two based only on sepal length. The story is not as great for the other two, but luckily, we have more features we can look at. Hope is not lost!"
   ]
  },
  {
   "cell_type": "markdown",
   "metadata": {},
   "source": [
    "#### Scatter Plot\n",
    "\n",
    "Box plots and histograms were great for looking at individual features, but in reality these features these features are not independent of each other. For example, it is plausible that a larger sepal length could be related to having a larger sepal width. This may not be true, but we might be able to find some patterns by analyzing interactions between the features. A scatter plot is perfect for this."
   ]
  },
  {
   "cell_type": "markdown",
   "metadata": {},
   "source": [
    "As an example, let's look at how sepal length and sepal width interact. In the cell below, we extract sepal length and sepal width values by species the same way we did for the histograms and then scatter the values from each species."
   ]
  },
  {
   "cell_type": "code",
   "execution_count": 31,
   "metadata": {},
   "outputs": [
    {
     "data": {
      "image/png": "[encoded data removed]",
      "text/plain": [
       "<Figure size 432x288 with 1 Axes>"
      ]
     },
     "metadata": {
      "needs_background": "light"
     },
     "output_type": "display_data"
    }
   ],
   "source": [
    "sepal_width = data[:, 1]\n",
    "\n",
    "plt.scatter(sepal_length[setosa], sepal_width[setosa], 80, marker='o')\n",
    "plt.scatter(sepal_length[versicolor], sepal_width[versicolor], 100, marker='s')\n",
    "plt.scatter(sepal_length[virginica], sepal_width[virginica], 80, marker='^')\n",
    "\n",
    "plt.title('Sepal Length vs Sepal Width')\n",
    "plt.xlabel('Sepal Length')\n",
    "plt.ylabel('Sepal Width')\n",
    "plt.legend(species)\n",
    "plt.show()"
   ]
  },
  {
   "cell_type": "markdown",
   "metadata": {},
   "source": [
    "It looks like there is some correlation between sepal length and sepal width."
   ]
  },
  {
   "cell_type": "markdown",
   "metadata": {},
   "source": [
    "#### Pair Plots\n",
    "\n",
    "If a histogram is a shovel and a scatter plot is a truck (bear with me), then the pair plot is the bulldozer that comes out of combining them into one plot. It displays a scatter plot for every pair of features in a grid. Then along the diagonal, it can display a stacked histogram (though it really can show anything or nothing)."
   ]
  },
  {
   "cell_type": "markdown",
   "metadata": {},
   "source": [
    "The implementation for a pair plot is pretty convoluted so we have hidden it away in `utility/util.py`. Feel free to take a peek if you are interested, however, we have already seen how to produce both historgrams and scatter plots before."
   ]
  },
  {
   "cell_type": "code",
   "execution_count": 32,
   "metadata": {},
   "outputs": [
    {
     "data": {
      "text/plain": [
       "<Figure size 1152x864 with 0 Axes>"
      ]
     },
     "metadata": {},
     "output_type": "display_data"
    },
    {
     "data": {
      "image/png": "[encoded data removed]",
      "text/plain": [
       "<Figure size 432x288 with 16 Axes>"
      ]
     },
     "metadata": {
      "needs_background": "light"
     },
     "output_type": "display_data"
    }
   ],
   "source": [
    "from utility.util import pair_plot\n",
    "\n",
    "pair_plot(data[:, :4], data[:, 4], headings[:4])\n"
   ]
  },
  {
   "cell_type": "markdown",
   "metadata": {},
   "source": [
    "### Drawing Conclusions using Machine Learning\n",
    "\n",
    "Now that we have a feel for what are data looks like, let's try to build a model that can classify iris flowers. "
   ]
  },
  {
   "cell_type": "markdown",
   "metadata": {},
   "source": [
    "#### Making Training and Testing Sets\n",
    "\n",
    "Generally, the first thing to do before starting any machine learning is to split your data into training and test sets. We allocate a test set in order to evaluate our model on data that it hasn't seen before."
   ]
  },
  {
   "cell_type": "markdown",
   "metadata": {},
   "source": [
    "However, even before that, we should separate out our measurements ($X$) from their correspoding labels ($y$)."
   ]
  },
  {
   "cell_type": "code",
   "execution_count": 33,
   "metadata": {},
   "outputs": [],
   "source": [
    "X, y = data[:, :4], data[:, 4]"
   ]
  },
  {
   "cell_type": "markdown",
   "metadata": {},
   "source": [
    "Next, we will leverage the `train_test_split` function from `sklearn` to perform our split. In the call below, we request that 30% of our data be put into the test set. 30% is a good rule of thumb for test set proportion. In general, data is always limited and ideally the more training data you have, the better your model will perform. When making a test set, we want to reserve enough to get a good sample of the data, but also not take too much that it hurts the training phase."
   ]
  },
  {
   "cell_type": "code",
   "execution_count": 34,
   "metadata": {},
   "outputs": [
    {
     "data": {
      "text/plain": [
       "(150, 4)"
      ]
     },
     "execution_count": 34,
     "metadata": {},
     "output_type": "execute_result"
    }
   ],
   "source": [
    "from sklearn.model_selection import train_test_split\n",
    "\n",
    "X_train, X_test, y_train, y_test = \\\n",
    "    train_test_split(X, y, test_size=0.3, random_state=217)\n",
    "X.shape"
   ]
  },
  {
   "cell_type": "markdown",
   "metadata": {},
   "source": [
    "**Try this!** Evaluate each of these in the cell below and figure out how many data points you have in your _traning set_ and in your _test set_. Remember that you can call `array.shape` to see the dimensions of each array."
   ]
  },
  {
   "cell_type": "code",
   "execution_count": 35,
   "metadata": {},
   "outputs": [
    {
     "data": {
      "text/plain": [
       "((105, 4), (45, 4))"
      ]
     },
     "execution_count": 35,
     "metadata": {},
     "output_type": "execute_result"
    }
   ],
   "source": [
    "# your code here\n",
    "X_train.shape, X_test.shape"
   ]
  },
  {
   "cell_type": "markdown",
   "metadata": {},
   "source": [
    "#### Training the Model\n",
    "\n",
    "Finally, we reach the goal, where we can now do some machine learning. For now, we won't worry about the specifics about the ML we will be doing, but rather, only demonstrating what we can do with machine learning. The model we will be using is hidden in the `secrets` module. If you are curious, you can take a look for yourself but this is not required at this time."
   ]
  },
  {
   "cell_type": "code",
   "execution_count": 36,
   "metadata": {},
   "outputs": [],
   "source": [
    "from utility.util import Model"
   ]
  },
  {
   "cell_type": "markdown",
   "metadata": {},
   "source": [
    "The model that we will be working with has a similar interface (methods and properties) as many of the models we will be using throughout the rest of the course. The first thing we will want to do is make an instance of the model."
   ]
  },
  {
   "cell_type": "code",
   "execution_count": 37,
   "metadata": {},
   "outputs": [],
   "source": [
    "model = Model()"
   ]
  },
  {
   "cell_type": "markdown",
   "metadata": {},
   "source": [
    "Next, we will fit the model with the training set that we created earlier."
   ]
  },
  {
   "cell_type": "code",
   "execution_count": 38,
   "metadata": {},
   "outputs": [
    {
     "data": {
      "text/plain": [
       "KNeighborsClassifier(algorithm='auto', leaf_size=30, metric='minkowski',\n",
       "                     metric_params=None, n_jobs=None, n_neighbors=3, p=2,\n",
       "                     weights='uniform')"
      ]
     },
     "execution_count": 38,
     "metadata": {},
     "output_type": "execute_result"
    }
   ],
   "source": [
    "model.fit(X_train, y_train)"
   ]
  },
  {
   "cell_type": "markdown",
   "metadata": {},
   "source": [
    "#### Testing the Model\n",
    "Now for the exciting part: making some predictions!"
   ]
  },
  {
   "cell_type": "code",
   "execution_count": 39,
   "metadata": {},
   "outputs": [
    {
     "data": {
      "text/plain": [
       "array([0., 2., 1., 2., 1., 0., 0., 2., 2., 0., 1., 0., 2., 1., 2., 1., 1.,\n",
       "       0., 2., 0., 0., 1., 0., 2., 1., 1., 0., 1., 1., 0., 1., 2., 2., 0.,\n",
       "       0., 0., 2., 1., 0., 0., 2., 2., 0., 1., 1.])"
      ]
     },
     "execution_count": 39,
     "metadata": {},
     "output_type": "execute_result"
    }
   ],
   "source": [
    "predictions = model.predict(X_test)\n",
    "predictions"
   ]
  },
  {
   "cell_type": "markdown",
   "metadata": {},
   "source": [
    "#### Evaluating the Model\n",
    "We can retrieve a score for how well the model performs on the training data as well as on the test data. Which score do you think is more informative? \n",
    "\n",
    "It is important to note that an imperfect training score is common as data often includes outliers. In fact, a perfect score may even be a sign of overfitting, something we would want to avoid."
   ]
  },
  {
   "cell_type": "code",
   "execution_count": 40,
   "metadata": {},
   "outputs": [
    {
     "name": "stdout",
     "output_type": "stream",
     "text": [
      "Accuracy: 0.9714285714285714\n"
     ]
    }
   ],
   "source": [
    "score = model.score(X_train, y_train)\n",
    "print(f'Accuracy: {score}')"
   ]
  },
  {
   "cell_type": "code",
   "execution_count": 41,
   "metadata": {},
   "outputs": [
    {
     "name": "stdout",
     "output_type": "stream",
     "text": [
      "Accuracy: 0.9555555555555556\n"
     ]
    }
   ],
   "source": [
    "score = model.score(X_test, y_test)\n",
    "print(f'Accuracy: {score}')"
   ]
  },
  {
   "cell_type": "markdown",
   "metadata": {},
   "source": [
    "The code below shows which of the predicted labels match the actual labels of the test examples. We see that the model got `43/45` examples right, which is pretty darn good. "
   ]
  },
  {
   "cell_type": "code",
   "execution_count": 42,
   "metadata": {},
   "outputs": [
    {
     "name": "stdout",
     "output_type": "stream",
     "text": [
      "[0. 2. 1. 2. 1. 0. 0. 2. 2. 0. 1. 0. 2. 1. 2. 1. 1. 0. 2. 0. 0. 1. 0. 2.\n",
      " 1. 1. 0. 1. 1. 0. 1. 2. 2. 0. 0. 0. 2. 1. 0. 0. 2. 2. 0. 1. 1.]\n",
      "[0. 2. 2. 2. 1. 0. 0. 1. 2. 0. 1. 0. 2. 1. 2. 1. 1. 0. 2. 0. 0. 1. 0. 2.\n",
      " 1. 1. 0. 1. 1. 0. 1. 2. 2. 0. 0. 0. 2. 1. 0. 0. 2. 2. 0. 1. 1.]\n"
     ]
    },
    {
     "data": {
      "text/plain": [
       "array([ True,  True, False,  True,  True,  True,  True, False,  True,\n",
       "        True,  True,  True,  True,  True,  True,  True,  True,  True,\n",
       "        True,  True,  True,  True,  True,  True,  True,  True,  True,\n",
       "        True,  True,  True,  True,  True,  True,  True,  True,  True,\n",
       "        True,  True,  True,  True,  True,  True,  True,  True,  True])"
      ]
     },
     "execution_count": 42,
     "metadata": {},
     "output_type": "execute_result"
    }
   ],
   "source": [
    "print(predictions)\n",
    "print(y_test)\n",
    "\n",
    "predictions == y_test"
   ]
  },
  {
   "cell_type": "markdown",
   "metadata": {},
   "source": [
    "### Communicating Your Findings\n",
    "\n",
    "Now that you have a fairly successful model that can classify irises, you want to share this with the rest of the world. This is often the hardest part of the entire workflow because you have to discuss the significance of your findings and present them so they can be understood."
   ]
  },
  {
   "cell_type": "markdown",
   "metadata": {},
   "source": [
    "**Write-up** How would you communicate your findings for this example? What are the most significant results we found?"
   ]
  },
  {
   "cell_type": "raw",
   "metadata": {},
   "source": [
    "# your response here\n",
    "The results show that the four features (Sepal Width, Sepal Lenght, Petal Width, and Petal Length) were good indicators of what type of species the flower is. The model that was created is a good predictor of what species the flower is based upon these measurements. \n"
   ]
  },
  {
   "cell_type": "markdown",
   "metadata": {},
   "source": [
    "The original goal in this example was to see if we could use some measurements about a cohort of irises to classify them by species."
   ]
  },
  {
   "cell_type": "markdown",
   "metadata": {},
   "source": [
    "**Write-up** We were successful! As evaluation showed, our model performs pretty well in the testing phase. But this alone may not be enough. What else might we consider doing before we use this Iris classification approach for real?"
   ]
  },
  {
   "cell_type": "raw",
   "metadata": {},
   "source": [
    "# your response here\n",
    "We could look at the predictions that were incorrect and see common factors they share that might have caused them to be incorrect. Maybe we could identify additional features that they have and create another feature to distinguish the species by. "
   ]
  }
 ],
 "metadata": {
  "kernelspec": {
   "display_name": "Python 3",
   "language": "python",
   "name": "python3"
  },
  "language_info": {
   "codemirror_mode": {
    "name": "ipython",
    "version": 3
   },
   "file_extension": ".py",
   "mimetype": "text/x-python",
   "name": "python",
   "nbconvert_exporter": "python",
   "pygments_lexer": "ipython3",
   "version": "3.7.2"
  }
 },
 "nbformat": 4,
 "nbformat_minor": 4
}

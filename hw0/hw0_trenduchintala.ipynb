{
 "cells": [
  {
   "cell_type": "markdown",
   "metadata": {},
   "source": [
    "# Hw 0: What is DS and Intro To Python 🐍"
   ]
  },
  {
   "cell_type": "markdown",
   "metadata": {},
   "source": [
    "Name: Tara Renduchintala\n",
    "\n",
    "Student ID: 475586\n",
    "\n",
    "Collaborators:"
   ]
  },
  {
   "cell_type": "markdown",
   "metadata": {},
   "source": [
    "## Instructions\n",
    "\n",
    "For this homework, work through **Lab 0 (Introduction to Python)** first. Most of the things we ask you to do in this homework are explained in the lab. In general, you should feel free to import any package that we have previously used in class. Ensure that all plots have the necessary components that a plot should have (e.g. axes labels, a title, a legend).\n",
    "\n",
    "Frequently **save** your notebook!\n",
    "\n",
    "### Collaborators and Sources\n",
    "Furthermore, in addition to recording your **collaborators** on this homework, please also remember to **cite/indicate all external sources** used when finishing this assignment. \n",
    "> This includes peers, TAs, and links to online sources. \n",
    "\n",
    "Note that these citations will be taken into account during the grading and regrading process.\n",
    "\n",
    "### Submission instructions\n",
    "* Submit this python notebook including your answers in the code cells as homework submission.\n",
    "* **Do not change the number of cells!** Your submission notebook should have exactly one code cell per problem. \n",
    "* Do **not** remove the `# your code here` line and add you solution after that line. "
   ]
  },
  {
   "cell_type": "markdown",
   "metadata": {},
   "source": [
    "## 1. What is Data Science?\n",
    "\n",
    "In the first lecture, we explored and discussed what data science is..."
   ]
  },
  {
   "cell_type": "markdown",
   "metadata": {},
   "source": [
    "### Problem 1.1\n",
    "\n",
    "**Write-up!** What is data science? Answer this question in your _own_ words by summarizing the main conclusions/definition from your group discussion from the first lecture. Do not cite any definitions of data science you find online or in the course slides. (If you did not attend the first lecture, come up with your _own_ answer to this question now.) "
   ]
  },
  {
   "cell_type": "raw",
   "metadata": {},
   "source": [
    "# your response here\n",
    "\n",
    "Data science is the analysis of data to find solutions to problems or draw conclusions. It is the collecting and tidying of data in order to perform statistical analysis on the data in order to draw said conclusions. Data science alllows people to glean more significance from raw data that is collected. \n"
   ]
  },
  {
   "cell_type": "markdown",
   "metadata": {},
   "source": [
    "### Problem 1.2\n",
    "\n",
    "**Write-up!** Data science is about using data to **find solutions** for a particular problem or use case. From the use cases below, pick two and describe the use case, the data that is involved, and a data scientist might approach and solve the problem.  \n",
    "\n",
    "* automated image captions\n",
    "* crime: predicting locations\n",
    "* crop-yield improvment\n",
    "* diagnosing heart disease\n",
    "* emotion detection\n",
    "* fitness tracking\n",
    "* humane genome sequencing\n",
    "* insurance pricing\n",
    "* language translation\n",
    "* personalized medicine\n",
    "* smart homes\n",
    "* ride sharing\n",
    "* social analytics\n",
    "* terrorist attack prevention"
   ]
  },
  {
   "cell_type": "raw",
   "metadata": {},
   "source": [
    "# your response here\n",
    "Automated image captions: \n",
    "    - Automated image captions are used for those who cannot see the image either due to a disability or due to the lack of loading via the web browser. Having automated image captionsmakes pictures and graphics more accessible and provide a faster way to set a standard of always providing image captions. \n",
    "    - The data that is involved are pictures that are placed on the internet and the names/words that are associated with them. Various pictures and names can be categorized and grouped together in order to create a comprehensive understanding of what the picture is. \n",
    "    - By cleaning up pictures that correspond to similar names and grouping them together. Thus, a program can begin to recongize pictures and is able to generate strings of words that correspond to the pictures that are being displayed.\n",
    "    \n",
    "  \n",
    "Ride Sharing:\n",
    "    - Ride sharing sometimes spikes in time and locations, depending on the area and day of the week. Additionally, they spike because of certain events going on in the area.\n",
    "    - The data that is involved is the number of ride requests, drivers available, prices, distances driven, locations, day of the week, and events.\n",
    "    - The data scientist can pull all this data and create a software that automatically generates spikes and allocates incentives to attract drivers to high traffic areas during certain days of the week as well as to certain events. Thus, ride sharing can have less wait times and potentially be more affordable. \n",
    " \n"
   ]
  },
  {
   "cell_type": "markdown",
   "metadata": {},
   "source": [
    "### Problem 1.3\n",
    "\n",
    "**Write-up!** Name and briefly describe (one sentence is enough) two other data science use cases. "
   ]
  },
  {
   "cell_type": "raw",
   "metadata": {},
   "source": [
    "# your response here\n",
    "Injury Prevention: Data can be taken on the way athletes get injured -- specifically where they get hit, what position they play, and how old they are. Thus, by cleaning up the data, it becomes more evident what body parts to strengthen or where padding or protection will be mostly needed.\n",
    "\n",
    "Movie Generator: An application that takes in the types of TV Shows/Movies you tend to watch based on the time, day of the week, and the season and generates a random new pick for you so that people aren't stuck scrolling through what movies to watch. This could solve a lot of indecision and would take in the data of what people and watch and cross list the categories that they fall under. "
   ]
  },
  {
   "cell_type": "markdown",
   "metadata": {},
   "source": [
    "## 2. Some Python Practice"
   ]
  },
  {
   "cell_type": "markdown",
   "metadata": {},
   "source": [
    "### Problem 2.1 \n",
    "\n",
    "**Try this!** Get all characters of the following string but the first four without counting its length: "
   ]
  },
  {
   "cell_type": "code",
   "execution_count": null,
   "metadata": {},
   "outputs": [],
   "source": [
    "my_string = \"This is a really long sting and you have now clue on how long it is!\"\n",
    "\n",
    "# your code here\n",
    "my_string[4:]"
   ]
  },
  {
   "cell_type": "markdown",
   "metadata": {},
   "source": [
    "### Problem 2.2\n",
    "\n",
    "Get the second to fourth elements of `a_list`."
   ]
  },
  {
   "cell_type": "code",
   "execution_count": 2,
   "metadata": {},
   "outputs": [],
   "source": [
    "a_list = [1, 2, 3, 4, 5, 6]\n",
    "\n",
    "# your code here\n",
    "a_list[2:5]\n"
   ]
  },
  {
   "cell_type": "markdown",
   "metadata": {},
   "source": [
    "### Problem 2.3\n",
    "\n",
    "In this problem we will get some more practice using the most common syntax constructs in Python, specifically _control flow_ and _for loops_. To do this, we will tackle the notorious \"FizzBuzz\" question — who knows when you might need this (interview?).\n",
    "\n",
    "**Try this!** Complete the following function so that it prints each number from 1 to `n` on a new line, where is `n` is an argument. However, for each multiple of 3, print \"Fizz\" instead of the number, for each multiple of 5, print \"Buzz\" instead of the number, and for numbers which are multiples of both 3 and 5, print \"FizzBuzz\" instead of the number. We will check your solution for you as you go — try \"running\" (▶️ or `shift + enter`) the cell below and take a look at the output.\n",
    "\n",
    "_**Hint**_: Start by creating a for loop to print out every even number from in the interval `[1:n]`; you'll need to create an appropriate `iterable` first."
   ]
  },
  {
   "cell_type": "code",
   "execution_count": 3,
   "metadata": {},
   "outputs": [
    {
     "name": "stdout",
     "output_type": "stream",
     "text": [
      "Checking fizzbuzz...✅\n",
      "\n",
      "1\n",
      "2\n",
      "Fizz\n",
      "4\n",
      "Buzz\n",
      "Fizz\n",
      "7\n",
      "8\n",
      "Fizz\n",
      "Buzz\n",
      "11\n",
      "Fizz\n",
      "13\n",
      "14\n",
      "FizzBuzz\n"
     ]
    }
   ],
   "source": [
    "from utility.util import checked\n",
    "\n",
    "@checked\n",
    "def fizzbuzz(n):\n",
    "    '''\n",
    "    Prints numbers 1 through, and including, N, except when the number\n",
    "    is a multiple of 3, 5 or of both. In these cases, prints \"Fizz\",\n",
    "    \"Buzz\", and \"FizzBuzz\", respectively.\n",
    "    \n",
    "    >>> fizzbuzz(5)\n",
    "    1\n",
    "    2\n",
    "    Fizz\n",
    "    4\n",
    "    Buzz\n",
    "    '''\n",
    "    \n",
    "    # your code here\n",
    "    nums = range(1,n+1);\n",
    "    for x in nums:\n",
    "        if x%5 == 0 and x%3==0:\n",
    "            print('FizzBuzz')\n",
    "        elif x%5 == 0:\n",
    "            print('Buzz')\n",
    "        elif x%3 == 0:\n",
    "            print('Fizz')\n",
    "        else:\n",
    "            print(x)\n",
    "    \n",
    "\n",
    "fizzbuzz(15)"
   ]
  },
  {
   "cell_type": "markdown",
   "metadata": {},
   "source": [
    "### Problem 2.4\n",
    "\n",
    "A _hailstone sequence_ is a fun little sequence that starts with a positive _integer_ $n$. Then,\n",
    "1. if $n$ is even, divide it by 2\n",
    "2. if $n$ is odd, multiply it by 3 and add 1\n",
    "3. continue this process until $n$ is 1.\n",
    "\n",
    "**Try this!** Complete the following function so that prints the hailstone sequence starting at integer `n`. It should also print `n` itself. _**Hint**: use floor division `//` to get integers when dividing. Also, if you run into infinite loops, hit `Kernel > Interrupt Kernel` in the top bar._"
   ]
  },
  {
   "cell_type": "code",
   "execution_count": 4,
   "metadata": {},
   "outputs": [
    {
     "name": "stdout",
     "output_type": "stream",
     "text": [
      "Checking hailstone...✅\n",
      "\n",
      "10\n",
      "5\n",
      "16\n",
      "8\n",
      "4\n",
      "2\n",
      "1\n"
     ]
    }
   ],
   "source": [
    "@checked\n",
    "def hailstone(n):\n",
    "    '''\n",
    "    Prints the hailstone sequence starting with N.\n",
    "    \n",
    "    >>> hailstone(10)\n",
    "    10\n",
    "    5\n",
    "    16\n",
    "    8\n",
    "    4\n",
    "    2\n",
    "    1\n",
    "    '''\n",
    "    \n",
    "    # your code here\n",
    "    while n != 1:\n",
    "        if n%2 == 0:\n",
    "            print(n)\n",
    "            n= n//2\n",
    "        elif n%2 != 0:\n",
    "            print(n)\n",
    "            n= (n*3)+1\n",
    "    print(n) \n",
    "            \n",
    "    \n",
    "hailstone(10)"
   ]
  },
  {
   "cell_type": "markdown",
   "metadata": {},
   "source": [
    "### Problem 2.5\n",
    "\n",
    "**Try this!** Use an appropriate function with a lambda function as its input to find the student with the soonest graduation date. "
   ]
  },
  {
   "cell_type": "code",
   "execution_count": 5,
   "metadata": {},
   "outputs": [
    {
     "data": {
      "text/plain": [
       "['Jeff', 21, 2019]"
      ]
     },
     "execution_count": 5,
     "metadata": {},
     "output_type": "execute_result"
    }
   ],
   "source": [
    "roster = [\n",
    "    ['Billy',  50, 2021],\n",
    "    ['Meghan', 18, 2020],\n",
    "    ['Jeff',   21, 2019],\n",
    "    ['Alex',   21, 2021],\n",
    "    ['Cate',   21, 2020]\n",
    "]\n",
    "\n",
    "# your code here\n",
    "min(roster, key = lambda student: student[2])"
   ]
  },
  {
   "cell_type": "markdown",
   "metadata": {},
   "source": [
    "## 3. Images are Arrays!\n",
    "\n",
    "AKA, more [NumPy](https://numpy.org) practice — so exciting right? In this problem we will expand on the generality of NumPy's arrays; specifically, we will be looking at how we can think of images as arrays of pixel values.\n",
    "\n",
    "But first, let's just do a quick review of some basic operations with NumPy."
   ]
  },
  {
   "cell_type": "markdown",
   "metadata": {},
   "source": [
    "### Problem 3.1\n",
    "\n",
    "**Try this!** Create a three dimensional array of ones with shape $3 \\times 3 \\times 2$ and assign it to a variable called `ones_array`. _**Hint**: you can view the resulting array by evaluating the variable (write the name on its own line at the end of the cell; remember that only the value of the last expression in the cell will be displayed)."
   ]
  },
  {
   "cell_type": "code",
   "execution_count": 6,
   "metadata": {},
   "outputs": [
    {
     "data": {
      "text/plain": [
       "array([[[ 1.,  1.],\n",
       "        [ 1.,  1.],\n",
       "        [ 1.,  1.]],\n",
       "\n",
       "       [[ 1.,  1.],\n",
       "        [ 1.,  1.],\n",
       "        [ 1.,  1.]],\n",
       "\n",
       "       [[ 1.,  1.],\n",
       "        [ 1.,  1.],\n",
       "        [ 1.,  1.]]])"
      ]
     },
     "execution_count": 6,
     "metadata": {},
     "output_type": "execute_result"
    }
   ],
   "source": [
    "import numpy as np\n",
    "\n",
    "# your code here\n",
    "ones_array = np.ones((3,3,2))\n",
    "ones_array\n"
   ]
  },
  {
   "cell_type": "markdown",
   "metadata": {},
   "source": [
    "### Image Time!\n",
    "\n",
    "This will be the image we are working with today.\n",
    "\n",
    "<img src=\"utility/data/example-image.png\" alt=\"example image - if you see this, please contact an instructor\" height=\"80%\" />\n",
    "\n",
    "Without getting too technical, digital images are composed of pixels arranged in a rectangular grid. Each pixel has an intensity value within some range (between 0 and 1 in this case) that specifies how light or dark it should be. Shades of gray (in a black and white image) can be specified by a single value whereas colors are typically specified by a tuple of three values (see the [RGB color model](https://en.wikipedia.org/wiki/RGB_color_model)). Both types of images can be represented as multidimensional arrays.\n",
    "\n",
    "_Note: image was taken by Erik Mclean and sourced from [Unsplash](https://unsplash.com/photos/BIheydot8Jw)._"
   ]
  },
  {
   "cell_type": "markdown",
   "metadata": {},
   "source": [
    "Let's try loading the image into an array. We've hidden how this is done, but feel free to check out `utility/util.py` if you are curious."
   ]
  },
  {
   "cell_type": "code",
   "execution_count": 7,
   "metadata": {},
   "outputs": [
    {
     "data": {
      "text/plain": [
       "array([[ 0.7764706 ,  0.78039217,  0.78039217, ...,  0.81568629,\n",
       "         0.81568629,  0.81568629],\n",
       "       [ 0.78039217,  0.78039217,  0.78039217, ...,  0.82352942,\n",
       "         0.82352942,  0.82745099],\n",
       "       [ 0.78431374,  0.78431374,  0.78431374, ...,  0.83529413,\n",
       "         0.83529413,  0.83529413],\n",
       "       ..., \n",
       "       [ 0.92941177,  0.92941177,  0.92941177, ...,  0.8509804 ,\n",
       "         0.8392157 ,  0.83529413],\n",
       "       [ 0.92941177,  0.9254902 ,  0.9254902 , ...,  0.86666667,\n",
       "         0.84313726,  0.83137256],\n",
       "       [ 0.9254902 ,  0.9254902 ,  0.9254902 , ...,  0.88235295,\n",
       "         0.86274511,  0.8392157 ]], dtype=float32)"
      ]
     },
     "execution_count": 7,
     "metadata": {},
     "output_type": "execute_result"
    }
   ],
   "source": [
    "from utility.util import load_image, show_array_as_image\n",
    "\n",
    "image = load_image('utility/data/example-image.png')\n",
    "image"
   ]
  },
  {
   "cell_type": "code",
   "execution_count": 8,
   "metadata": {},
   "outputs": [],
   "source": [
    "show_array_as_image(image)"
   ]
  },
  {
   "cell_type": "markdown",
   "metadata": {},
   "source": [
    "### Problem 3.2\n",
    "\n",
    "**Try this!** Retrieve the shape of the array. _**Hint**: the property you are looking for has the same name as what you are looking for._"
   ]
  },
  {
   "cell_type": "code",
   "execution_count": 9,
   "metadata": {},
   "outputs": [
    {
     "data": {
      "text/plain": [
       "(250, 374)"
      ]
     },
     "execution_count": 9,
     "metadata": {},
     "output_type": "execute_result"
    }
   ],
   "source": [
    "# your code here\n",
    "\n",
    "image.shape\n"
   ]
  },
  {
   "cell_type": "markdown",
   "metadata": {},
   "source": [
    "**Write-up!** How do the dimensions of the array relate to the axes (height and width) of image? How were you able to tell?\n",
    "\n",
    "_**Hint**: Compare the shape of the array and the image itself._"
   ]
  },
  {
   "cell_type": "raw",
   "metadata": {},
   "source": [
    "# your response here\n",
    "The dimensions of the array indicate how many pixels are make up the height and width. 250 pixels corresponds to the height and 274 correspoinds to the width. I was able to tell because the height of the picture is smaller than the width of the picture. Additionally, the intensity values that are shown correspond with the dark grey that surround the picture's border."
   ]
  },
  {
   "cell_type": "markdown",
   "metadata": {},
   "source": [
    "### Problem 3.3\n",
    "\n",
    "**Try this!** Compute the average intensity of each \"row\" of pixels in the image and store the values in `average_row_intensities`. Do the same for each \"column\" of pixels in the image and store the values in `average_column_intensities`. You should only use NumPy's vectorized operations. No loops!\n",
    "\n",
    "_**Hint**: Which axis do you want to perform the operation across? How many values do you expect to get from each operation? Are the shapes of the resulting arrays consistent with your expectations?_"
   ]
  },
  {
   "cell_type": "code",
   "execution_count": 10,
   "metadata": {},
   "outputs": [
    {
     "name": "stdout",
     "output_type": "stream",
     "text": [
      "[ 0.81396663  0.81393522  0.81392467  0.81375694  0.8136102   0.81356829\n",
      "  0.8134529   0.81327468  0.81315929  0.81297058  0.81293917  0.81267697\n",
      "  0.81292862  0.81293917  0.81321168  0.81342149  0.81350535  0.81336904\n",
      "  0.81305438  0.81254065  0.81194299  0.81179625  0.81183815  0.81177527\n",
      "  0.81152362  0.81159693  0.81137675  0.81112516  0.8108421   0.81025481\n",
      "  0.80987734  0.80961519  0.80910146  0.80871344  0.8084932   0.80803186\n",
      "  0.80763352  0.80707765  0.80624938  0.80508548  0.80395311  0.80286258\n",
      "  0.80159378  0.80028319  0.7988885   0.79731578  0.79567999  0.79413855\n",
      "  0.79245055  0.79062605  0.78870714  0.78693509  0.78530991  0.78382099\n",
      "  0.78265709  0.78206992  0.77696341  0.75978816  0.73916334  0.73409879\n",
      "  0.74005461  0.74501419  0.74959636  0.75100136  0.74990046  0.74663949\n",
      "  0.74335754  0.74579018  0.74832767  0.75094897  0.75256377  0.75133687\n",
      "  0.75153613  0.75220728  0.7510224   0.75103289  0.75067645  0.75068688\n",
      "  0.75068688  0.75132644  0.75213385  0.75294125  0.75384295  0.75534236\n",
      "  0.7572298   0.75845665  0.7578904   0.75875014  0.7596519   0.75907516\n",
      "  0.75869769  0.75821543  0.75843561  0.75877112  0.75902277  0.75976723\n",
      "  0.76033348  0.76048028  0.76045918  0.76122475  0.75877112  0.75311947\n",
      "  0.75257427  0.75373811  0.75245887  0.74605232  0.74137574  0.74180561\n",
      "  0.74288565  0.74122888  0.73670965  0.73375273  0.74334699  0.75165153\n",
      "  0.75434625  0.75617075  0.75847751  0.75770164  0.75688374  0.75504881\n",
      "  0.75994545  0.76231521  0.76817662  0.77412188  0.78141981  0.78068584\n",
      "  0.77899766  0.78176576  0.77782321  0.77755058  0.77845234  0.78008807\n",
      "  0.78707141  0.79171658  0.79338366  0.7939918   0.79387647  0.79399192\n",
      "  0.7938661   0.79249245  0.79178989  0.79020661  0.78868616  0.78832966\n",
      "  0.78830868  0.7892105   0.78897977  0.78851843  0.78797317  0.78882253\n",
      "  0.78937829  0.79069942  0.79261827  0.79738915  0.80459267  0.80916435\n",
      "  0.81263506  0.81479502  0.81735355  0.82170498  0.82479829  0.82504988\n",
      "  0.82771319  0.83065951  0.82990468  0.84165883  0.84984797  0.85064483\n",
      "  0.85022545  0.86026001  0.86739022  0.85503823  0.85156763  0.85919058\n",
      "  0.86859602  0.87255955  0.87801194  0.88794172  0.89575344  0.8964349\n",
      "  0.89729482  0.89760929  0.89793438  0.89660269  0.89594215  0.89562762\n",
      "  0.89580584  0.89607853  0.89570105  0.89526063  0.89456862  0.89391845\n",
      "  0.8931635   0.89210451  0.89160115  0.89090914  0.88945162  0.88738608\n",
      "  0.88737559  0.8864423   0.88492191  0.88360071  0.88421941  0.88460732\n",
      "  0.88404113  0.88398868  0.88490093  0.88641077  0.89074135  0.89623564\n",
      "  0.89832234  0.89924508  0.90093327  0.90353364  0.90588242  0.90790612\n",
      "  0.90931123  0.91024441  0.91108322  0.91111463  0.91043305  0.90936363\n",
      "  0.90870297  0.90849334  0.90910155  0.9097411   0.91031784  0.91132438\n",
      "  0.91203743  0.91255116  0.91303355  0.91301256  0.91293925  0.91289723\n",
      "  0.91273999  0.91297054  0.91357881  0.91341102  0.91321176  0.9131698\n",
      "  0.91306508  0.91299158  0.91291815  0.91248834  0.91239393  0.91234154\n",
      "  0.91245681  0.91282386  0.91344249  0.91392475]\n",
      "(250,)\n",
      "[ 0.85543627  0.85543627  0.85477746  0.85393041  0.85355395  0.85313046\n",
      "  0.85244024  0.85178143  0.85105985  0.85002458  0.84873831  0.84809524\n",
      "  0.84764034  0.84753054  0.84716976  0.84715408  0.84644818  0.84564817\n",
      "  0.84469134  0.84403253  0.84375018  0.8435306   0.84313846  0.84291881\n",
      "  0.84226     0.8419463   0.84171098  0.84142864  0.84091103  0.84066004\n",
      "  0.84061295  0.8404718   0.84006399  0.83949929  0.83869928  0.83793068\n",
      "  0.83724046  0.83684832  0.83648753  0.83622086  0.8358444   0.83557779\n",
      "  0.8352797   0.83523268  0.83531111  0.83485621  0.83426011  0.83404046\n",
      "  0.83338165  0.83256596  0.83192283  0.83137381  0.83113855  0.83002484\n",
      "  0.82911503  0.82862878  0.82782882  0.82702881  0.82640135  0.82553864\n",
      "  0.82519352  0.82494259  0.82429945  0.82414258  0.82407981  0.82455039\n",
      "  0.82582098  0.82564843  0.82524061  0.82442492  0.82371908  0.82345241\n",
      "  0.82301319  0.82229161  0.82150733  0.82084852  0.82037795  0.81989169\n",
      "  0.81912303  0.8183074   0.81761718  0.81686425  0.81615841  0.81573486\n",
      "  0.81557798  0.81556231  0.81573486  0.81604856  0.81648779  0.81716228\n",
      "  0.81807208  0.81844854  0.81904459  0.81992304  0.82039362  0.82077008\n",
      "  0.82105243  0.82180536  0.82337397  0.82578963  0.82197767  0.76589859\n",
      "  0.69381988  0.67385161  0.66927153  0.67113799  0.67634583  0.67678517\n",
      "  0.65305185  0.61256546  0.60527128  0.59687901  0.58655745  0.58856547\n",
      "  0.59378904  0.5896945   0.61816543  0.62715346  0.61658084  0.61810237\n",
      "  0.63107514  0.62898868  0.60243136  0.561867    0.54760826  0.54244769\n",
      "  0.5695374   0.60545909  0.61152959  0.61077678  0.60150623  0.60588276\n",
      "  0.62058061  0.63141972  0.63176441  0.62897223  0.62340379  0.60034519\n",
      "  0.59317631  0.65334886  0.68825096  0.68825126  0.71662813  0.71739686\n",
      "  0.64997625  0.58003139  0.5819295   0.63068259  0.74000043  0.82055002\n",
      "  0.84017384  0.8399542   0.84051901  0.84103668  0.84246415  0.84368765\n",
      "  0.84461313  0.84492689  0.84527194  0.84539747  0.84473866  0.84440917\n",
      "  0.84378159  0.84265202  0.84152257  0.84029901  0.83901256  0.83752239\n",
      "  0.83574975  0.83374202  0.83200085  0.83019698  0.8288793   0.82723218\n",
      "  0.82646352  0.82619685  0.82600868  0.82603997  0.82624388  0.82688701\n",
      "  0.82842427  0.8298046   0.83167124  0.83407122  0.83651823  0.83965546\n",
      "  0.84266722  0.84549081  0.84828293  0.85127914  0.85374182  0.8563928\n",
      "  0.85880858  0.86111468  0.86337352  0.86524028  0.86745214  0.86925602\n",
      "  0.87098151  0.87212658  0.87305206  0.87378925  0.87473047  0.8752324\n",
      "  0.87623632  0.87714612  0.87804019  0.87876177  0.87981272  0.88029903\n",
      "  0.88094217  0.8808794   0.88105202  0.88130295  0.88145983  0.88120884\n",
      "  0.88045597  0.8799541   0.87960893  0.87901288  0.87862074  0.87816584\n",
      "  0.87755406  0.87658155  0.87573445  0.87559325  0.87518543  0.87502855\n",
      "  0.87510699  0.87468344  0.87476182  0.87485594  0.87463635  0.87432265\n",
      "  0.8741501   0.87404031  0.87443244  0.87462068  0.87411869  0.87319326\n",
      "  0.87240893  0.87151486  0.8701188   0.86920899  0.86844039  0.86798549\n",
      "  0.86696583  0.8665266   0.86533439  0.86459714  0.86433053  0.86365598\n",
      "  0.86229134  0.86072272  0.85885602  0.85684818  0.85501295  0.85292661\n",
      "  0.8516404   0.85033846  0.84994626  0.85000902  0.84978944  0.84960121\n",
      "  0.85011888  0.84999341  0.84989929  0.84946007  0.84931892  0.84913069\n",
      "  0.84866011  0.84804833  0.84767187  0.84669936  0.84553856  0.84440917\n",
      "  0.84354645  0.84243274  0.84125626  0.84055042  0.84009552  0.83940536\n",
      "  0.83904451  0.83927983  0.83927983  0.83937389  0.83913869  0.83879358\n",
      "  0.83822882  0.83789933  0.83742875  0.83667582  0.83639348  0.83620518\n",
      "  0.8356719   0.83604836  0.83595419  0.83645618  0.8370052   0.83811891\n",
      "  0.83978164  0.84163254  0.84360904  0.84588349  0.8480795   0.85010302\n",
      "  0.85204816  0.85400891  0.85582846  0.85829121  0.86070693  0.86233824\n",
      "  0.86385977  0.86533427  0.86716956  0.8690362   0.87022841  0.87101269\n",
      "  0.87088722  0.87043232  0.87018138  0.86930299  0.86869121  0.86833042\n",
      "  0.86778146  0.86665201  0.86578929  0.86483246  0.86365598  0.86207169\n",
      "  0.86070704  0.85915411  0.85799336  0.85749137  0.85680121  0.85669142\n",
      "  0.85634631  0.85628355  0.85672277  0.85664433  0.85636199  0.85590708\n",
      "  0.85469925  0.8531307   0.85167187  0.8503229   0.84942877  0.849617\n",
      "  0.8494131   0.85077775  0.85124832  0.85066795  0.85007191  0.84955424\n",
      "  0.84971112  0.85051113  0.85154641  0.85280126  0.85408753  0.85509139\n",
      "  0.85592276  0.85725605  0.86028349  0.86412656  0.8683148   0.87107557\n",
      "  0.87247163  0.87292653  0.87247169  0.87217367  0.87168741  0.87044823\n",
      "  0.8692404   0.86858159]\n",
      "(374,)\n"
     ]
    }
   ],
   "source": [
    "# your code here\n",
    "average_row_intensities = np.mean(image, axis = 1)\n",
    "average_column_intensities = np.mean(image, axis = 0)\n",
    "print(average_row_intensities)\n",
    "print(average_row_intensities.shape)\n",
    "print(average_column_intensities)\n",
    "print(average_column_intensities.shape)"
   ]
  },
  {
   "cell_type": "markdown",
   "metadata": {},
   "source": [
    "Let's try to get a better feel for what is going on. How would we find the darkest pixel in the image?\n",
    "\n",
    "**Try this!** Get the indicies of the row and column with smallest average value. Print these values (row first). _**Hint**: refer back to Lab 0._"
   ]
  },
  {
   "cell_type": "code",
   "execution_count": 11,
   "metadata": {},
   "outputs": [
    {
     "name": "stdout",
     "output_type": "stream",
     "text": [
      "60 109\n"
     ]
    }
   ],
   "source": [
    "# your code here\n",
    "rowmin = np.amin(image, axis = 1)\n",
    "rowmin = np.argmin(rowmin)\n",
    "\n",
    "colmin = np.amin(image, axis = 0)\n",
    "colmin = np.argmin(colmin)\n",
    "\n",
    "print(rowmin, colmin)\n",
    "\n"
   ]
  },
  {
   "cell_type": "markdown",
   "metadata": {},
   "source": [
    "**Write-up!** Are these values consistent with the image? What is located at the pixel with these coordinates? Here is the image again."
   ]
  },
  {
   "cell_type": "code",
   "execution_count": 12,
   "metadata": {},
   "outputs": [],
   "source": [
    "show_array_as_image(image)"
   ]
  },
  {
   "cell_type": "raw",
   "metadata": {},
   "source": [
    "# your response here\n",
    "The value that is displayed is the white on the can that is almost reflecting the light and turning out to be white. "
   ]
  },
  {
   "cell_type": "markdown",
   "metadata": {},
   "source": [
    "### Problem 3.4\n",
    "\n",
    "Finally, let's try adjusting the brightness or [exposure](https://en.wikipedia.org/wiki/Exposure_(photography)) of the image. Remember that the `image` is represented as an array containing pixel intensities, where darker colors have values smaller than lighter colors. Thus, we can make an image \"brighter\" by making the pixel intensity values larger.\n",
    "\n",
    "**Try this!** Make the image **half as bright** and store the new image in `darker_image`."
   ]
  },
  {
   "cell_type": "code",
   "execution_count": 14,
   "metadata": {},
   "outputs": [],
   "source": [
    "# your code here\n",
    "darker_image = .5*image\n",
    "\n",
    "# just checking for the variable\n",
    "assert 'darker_image' in locals(), \\\n",
    "    'Ensure that you are storing the image in a variable called `darker_image`'\n",
    "\n",
    "show_array_as_image(darker_image)"
   ]
  },
  {
   "cell_type": "code",
   "execution_count": null,
   "metadata": {},
   "outputs": [],
   "source": []
  },
  {
   "cell_type": "code",
   "execution_count": null,
   "metadata": {},
   "outputs": [],
   "source": []
  },
  {
   "cell_type": "code",
   "execution_count": null,
   "metadata": {},
   "outputs": [],
   "source": []
  }
 ],
 "metadata": {
  "kernelspec": {
   "display_name": "Python 3",
   "language": "python",
   "name": "python3"
  },
  "language_info": {
   "codemirror_mode": {
    "name": "ipython",
    "version": 3
   },
   "file_extension": ".py",
   "mimetype": "text/x-python",
   "name": "python",
   "nbconvert_exporter": "python",
   "pygments_lexer": "ipython3",
   "version": "3.6.1"
  }
 },
 "nbformat": 4,
 "nbformat_minor": 4
}

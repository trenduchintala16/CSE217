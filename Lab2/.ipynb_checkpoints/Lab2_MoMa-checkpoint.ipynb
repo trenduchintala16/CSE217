{
 "cells": [
  {
   "cell_type": "markdown",
   "metadata": {},
   "source": [
    "# Lab 2: Analyzing the MoMA Data"
   ]
  },
  {
   "cell_type": "markdown",
   "metadata": {},
   "source": [
    "Working on this lab should be a **collaborative effort**. We encourage you to work togheter with your group. If you do not work on your own notebook, make sure you demo to the TA/instructor as a group and share your work across the group after the lab.\n",
    "\n",
    "> Remeber, to indicate the names of your group members,if you use some of the collectivley developed code in a future homework. \n",
    "\n",
    "## Objectives\n",
    "1. Computing Summary Statistics from Data \n",
    "2. Data Visualization using matplotlib\n",
    "3. Posing and Answering a Data Problem"
   ]
  },
  {
   "cell_type": "markdown",
   "metadata": {},
   "source": [
    "## Outline\n",
    "\n",
    "1. [Recap: EDA Process](#Recap:-EDA-Process)\n",
    "2. [Game Plan](#Game-Plan)\n",
    "    1. [Step 1: MoMA Data](#Step-1:-MoMA-Data)\n",
    "    2. [Step 2: Data Wrangling](#Step-2:-Data-Wrangling)\n",
    "    3. [Step 3: Data Profiling](#Step-3:-Data-Profiling)\n",
    "    4. [Step 4: Develop Questions to Investigate](#Step-4:-Develop-Questions-to-Investigate)\n",
    "    5. [Step 5: Investiage Hypothesis Q1](#Step-5:-Investiage-Hypothesis-Q1)\n",
    "    6. [Step 5: Investiage Hypothesis Q2](#Step-5:-Investiage-Hypothesis-Q2)\n",
    "    7. [Step 6: Answer Questions](#Step-6:-Answer-Questions)"
   ]
  },
  {
   "cell_type": "markdown",
   "metadata": {},
   "source": [
    "## Recap: EDA Process\n",
    "Exploratory Data Analysis (EDA) is an approach to analyze and summarize data sets. "
   ]
  },
  {
   "cell_type": "markdown",
   "metadata": {},
   "source": [
    "<img src=\"utility/pics/EDA.png\" alt=\"Drawing\" style=\"width: 600px;\"/>"
   ]
  },
  {
   "cell_type": "markdown",
   "metadata": {},
   "source": [
    "(Business) goals require us to preform data analysis in order to answer/investigate a **data problem**. We begin with gaining a basic understanding of the data that is available. This understanding may require revisiting the (business) goals. Once an understanding is established the data needs to be prepared for modeling/analysis. This step includes some or all of the following data (pre-)processing:\n",
    "* _data wrangling:_ parsing and formatting the data\n",
    "* _data profiling_\n",
    "* _data cleaning_\n",
    "* _data engineering_ \n",
    "\n",
    "While creating models or analyzing the data (i.e., computing summary statistics, etc.), revisiting the data preparation phase is fairly common because of new discoveries or requirements. After the modelling phase we need to evaluate the model/findings, oftentimes using visualizations. Based on your findings you will have to revisit and possibly adapt your (business) goals and iterate over the entire EDA process again. Finally, once you have evaluated the model/data satisfactorily, it can be deployed into an internal workflow, as a report, or as an external process or product. "
   ]
  },
  {
   "cell_type": "markdown",
   "metadata": {},
   "source": [
    "## Game Plan\n",
    "1. Get the data and gain **basic understanding**\n",
    "2. **Wrangle** the data\n",
    "3. **Profile** the data\n",
    "4. Develop questions to investigate (form a **hypotheses**)\n",
    "5. Use the data to **investigate** hypothesis\n",
    "6. **Summarize** results and answer questions "
   ]
  },
  {
   "cell_type": "markdown",
   "metadata": {
    "ExecuteTime": {
     "end_time": "2018-09-20T19:24:15.157647Z",
     "start_time": "2018-09-20T19:24:13.931476Z"
    }
   },
   "source": [
    "### Step 1: MoMA Data\n",
    "In this lab we will be working with a dataset from the Museum of Modern Art in New York, also commonly referred to as  _MoMA_.  \n",
    "\n",
    "![MoMA](utility/pics/MoMA.png)\n",
    "We will be looking at  \n",
    "* Artworks \n",
    "* Artists\n",
    "* Directors\n",
    "\n",
    "Our dataset represents **all** of the works that have been accessioned into MoMA’s collection and cataloged in their database. The data is publically available at https://github.com/MuseumofModernArt. \n",
    "Thanks to MoMA for releasing this dataset [http://dx.doi.org/10.5281/zenodo.1324595](http://dx.doi.org/10.5281/zenodo.1324595). Thanks to Chloe Mawer and Jonathan Whitmore to share their EDA work on this data!"
   ]
  },
  {
   "cell_type": "markdown",
   "metadata": {},
   "source": [
    "#### Imports and Environment Setup\n",
    "Run the following blocks of code to set up the lab environment."
   ]
  },
  {
   "cell_type": "code",
   "execution_count": 1,
   "metadata": {
    "ExecuteTime": {
     "end_time": "2018-09-26T06:03:23.184314Z",
     "start_time": "2018-09-26T06:03:20.924416Z"
    }
   },
   "outputs": [],
   "source": [
    "# basic wrangling\n",
    "import pandas as pd\n",
    "from utility.util import clean_columns\n",
    "\n",
    "# plotting\n",
    "from matplotlib import pyplot as plt\n",
    "from utility.util import plot_gender_fraction_over_time"
   ]
  },
  {
   "cell_type": "markdown",
   "metadata": {},
   "source": [
    "#### Load Raw Data\n",
    "\n",
    "Let's load the data into a **pandas data frame**. Pandas is a Pyhton library for data analysis; see https://pandas.pydata.org for more information.\n",
    "\n",
    "Conveniently pandas comes with a routine `read_csv` to load data from csv files into data frames (panda's data structure to store tabular data). This means that we are lucky and do not have to write a parser ourselves!\n",
    "\n",
    "**Try this!** Load the directors table `MoMADirectorsDepartmentHeads.csv`. It's stored in the same folder as the artworks table. "
   ]
  },
  {
   "cell_type": "code",
   "execution_count": 2,
   "metadata": {},
   "outputs": [],
   "source": [
    "# Load data\n",
    "artworks = pd.read_csv(\"./utility/data/Artworks.csv\")\n",
    "\n",
    "# your code here\n",
    "directors = pd.read_csv(\"./utility/data/MoMADirectorsDepartmentHeads.csv\")"
   ]
  },
  {
   "cell_type": "markdown",
   "metadata": {},
   "source": [
    "### Step 2: Data Wrangling"
   ]
  },
  {
   "cell_type": "code",
   "execution_count": 3,
   "metadata": {
    "ExecuteTime": {
     "end_time": "2018-09-26T06:03:24.345021Z",
     "start_time": "2018-09-26T06:03:23.224909Z"
    }
   },
   "outputs": [
    {
     "data": {
      "text/plain": [
       "Index(['Title', 'Artist', 'ConstituentID', 'ArtistBio', 'Nationality',\n",
       "       'BeginDate', 'EndDate', 'Gender', 'Date', 'Medium', 'Dimensions',\n",
       "       'CreditLine', 'AccessionNumber', 'Classification', 'Department',\n",
       "       'DateAcquired', 'Cataloged', 'ObjectID', 'URL', 'ThumbnailURL',\n",
       "       'Circumference (cm)', 'Depth (cm)', 'Diameter (cm)', 'Height (cm)',\n",
       "       'Length (cm)', 'Weight (kg)', 'Width (cm)', 'Seat Height (cm)',\n",
       "       'Duration (sec.)'],\n",
       "      dtype='object')"
      ]
     },
     "execution_count": 3,
     "metadata": {},
     "output_type": "execute_result"
    }
   ],
   "source": [
    "# Look at the table columns\n",
    "artworks.columns"
   ]
  },
  {
   "cell_type": "code",
   "execution_count": 4,
   "metadata": {
    "ExecuteTime": {
     "end_time": "2018-09-26T06:03:24.390366Z",
     "start_time": "2018-09-26T06:03:24.385595Z"
    }
   },
   "outputs": [],
   "source": [
    "# Format the column names (this function is hidden in utility/util.py as it is not that important)\n",
    "artworks = clean_columns(artworks)\n",
    "directors = clean_columns(directors)"
   ]
  },
  {
   "cell_type": "markdown",
   "metadata": {},
   "source": [
    "**Try this!** Look at the columns of both tables again to observe the changes. Simply run the cell block that looks at table columns again.\n",
    "\n",
    "Let's look at some entries in the artworks dataframe. Note that a `DataFrame` is a generalized **numpy array**, so a lot of the things you learned about arrays apply to dataframes as well. \n",
    "\n",
    "By using our knowledge about the history of the MoMA, let's look at works acquired in the _first year_ of its opening (1929)."
   ]
  },
  {
   "cell_type": "code",
   "execution_count": 5,
   "metadata": {
    "ExecuteTime": {
     "end_time": "2018-09-26T06:03:24.534893Z",
     "start_time": "2018-09-26T06:03:24.498100Z"
    }
   },
   "outputs": [
    {
     "data": {
      "text/html": [
       "<div>\n",
       "<style>\n",
       "    .dataframe thead tr:only-child th {\n",
       "        text-align: right;\n",
       "    }\n",
       "\n",
       "    .dataframe thead th {\n",
       "        text-align: left;\n",
       "    }\n",
       "\n",
       "    .dataframe tbody tr th {\n",
       "        vertical-align: top;\n",
       "    }\n",
       "</style>\n",
       "<table border=\"1\" class=\"dataframe\">\n",
       "  <thead>\n",
       "    <tr style=\"text-align: right;\">\n",
       "      <th></th>\n",
       "      <th>Title</th>\n",
       "      <th>Artist</th>\n",
       "      <th>ConstituentID</th>\n",
       "      <th>ArtistBio</th>\n",
       "      <th>Nationality</th>\n",
       "      <th>BeginDate</th>\n",
       "      <th>EndDate</th>\n",
       "      <th>Gender</th>\n",
       "      <th>Date</th>\n",
       "      <th>Medium</th>\n",
       "      <th>...</th>\n",
       "      <th>ThumbnailURL</th>\n",
       "      <th>Circumference_cm</th>\n",
       "      <th>Depth_cm</th>\n",
       "      <th>Diameter_cm</th>\n",
       "      <th>Height_cm</th>\n",
       "      <th>Length_cm</th>\n",
       "      <th>Weight_kg</th>\n",
       "      <th>Width_cm</th>\n",
       "      <th>Seat_Height_cm</th>\n",
       "      <th>Duration_sec</th>\n",
       "    </tr>\n",
       "  </thead>\n",
       "  <tbody>\n",
       "    <tr>\n",
       "      <th>31567</th>\n",
       "      <td>Anna Peter</td>\n",
       "      <td>George Grosz</td>\n",
       "      <td>2374</td>\n",
       "      <td>(American, born Germany. 1893–1959)</td>\n",
       "      <td>(American)</td>\n",
       "      <td>(1893)</td>\n",
       "      <td>(1959)</td>\n",
       "      <td>(Male)</td>\n",
       "      <td>(1926-27)</td>\n",
       "      <td>Pencil on paper</td>\n",
       "      <td>...</td>\n",
       "      <td>http://www.moma.org/media/W1siZiIsIjg1OTk2Il0s...</td>\n",
       "      <td>NaN</td>\n",
       "      <td>NaN</td>\n",
       "      <td>NaN</td>\n",
       "      <td>68.580100</td>\n",
       "      <td>NaN</td>\n",
       "      <td>NaN</td>\n",
       "      <td>53.6576</td>\n",
       "      <td>NaN</td>\n",
       "      <td>NaN</td>\n",
       "    </tr>\n",
       "    <tr>\n",
       "      <th>55945</th>\n",
       "      <td>Self-Portrait (Selbstbildnis)</td>\n",
       "      <td>Max Beckmann</td>\n",
       "      <td>429</td>\n",
       "      <td>(German, 1884–1950)</td>\n",
       "      <td>(German)</td>\n",
       "      <td>(1884)</td>\n",
       "      <td>(1950)</td>\n",
       "      <td>(Male)</td>\n",
       "      <td>1914, published 1918</td>\n",
       "      <td>Drypoint</td>\n",
       "      <td>...</td>\n",
       "      <td>http://www.moma.org/media/W1siZiIsIjE2NjE4MSJd...</td>\n",
       "      <td>NaN</td>\n",
       "      <td>NaN</td>\n",
       "      <td>NaN</td>\n",
       "      <td>238.760478</td>\n",
       "      <td>NaN</td>\n",
       "      <td>NaN</td>\n",
       "      <td>17.7000</td>\n",
       "      <td>NaN</td>\n",
       "      <td>NaN</td>\n",
       "    </tr>\n",
       "    <tr>\n",
       "      <th>55997</th>\n",
       "      <td>Before the Mirror (Vor dem Spiegel)</td>\n",
       "      <td>Max Beckmann</td>\n",
       "      <td>429</td>\n",
       "      <td>(German, 1884–1950)</td>\n",
       "      <td>(German)</td>\n",
       "      <td>(1884)</td>\n",
       "      <td>(1950)</td>\n",
       "      <td>(Male)</td>\n",
       "      <td>(1923)</td>\n",
       "      <td>Drypoint</td>\n",
       "      <td>...</td>\n",
       "      <td>http://www.moma.org/media/W1siZiIsIjExNDY5NSJd...</td>\n",
       "      <td>NaN</td>\n",
       "      <td>NaN</td>\n",
       "      <td>NaN</td>\n",
       "      <td>22.700000</td>\n",
       "      <td>NaN</td>\n",
       "      <td>NaN</td>\n",
       "      <td>17.4000</td>\n",
       "      <td>NaN</td>\n",
       "      <td>NaN</td>\n",
       "    </tr>\n",
       "    <tr>\n",
       "      <th>56009</th>\n",
       "      <td>The Blessing of Heaven is Visibly upon Me (Got...</td>\n",
       "      <td>George Grosz</td>\n",
       "      <td>2374</td>\n",
       "      <td>(American, born Germany. 1893–1959)</td>\n",
       "      <td>(American)</td>\n",
       "      <td>(1893)</td>\n",
       "      <td>(1959)</td>\n",
       "      <td>(Male)</td>\n",
       "      <td>(1922)</td>\n",
       "      <td>Photolithograph</td>\n",
       "      <td>...</td>\n",
       "      <td>http://www.moma.org/media/W1siZiIsIjEzNDg3MyJd...</td>\n",
       "      <td>NaN</td>\n",
       "      <td>NaN</td>\n",
       "      <td>NaN</td>\n",
       "      <td>45.300000</td>\n",
       "      <td>NaN</td>\n",
       "      <td>NaN</td>\n",
       "      <td>36.7000</td>\n",
       "      <td>NaN</td>\n",
       "      <td>NaN</td>\n",
       "    </tr>\n",
       "    <tr>\n",
       "      <th>56050</th>\n",
       "      <td>Marine</td>\n",
       "      <td>Lyonel Feininger</td>\n",
       "      <td>1832</td>\n",
       "      <td>(American, 1871–1956)</td>\n",
       "      <td>(American)</td>\n",
       "      <td>(1871)</td>\n",
       "      <td>(1956)</td>\n",
       "      <td>(Male)</td>\n",
       "      <td>1918</td>\n",
       "      <td>Woodcut</td>\n",
       "      <td>...</td>\n",
       "      <td>http://www.moma.org/media/W1siZiIsIjExNDcxOSJd...</td>\n",
       "      <td>NaN</td>\n",
       "      <td>NaN</td>\n",
       "      <td>NaN</td>\n",
       "      <td>16.800000</td>\n",
       "      <td>NaN</td>\n",
       "      <td>NaN</td>\n",
       "      <td>22.5000</td>\n",
       "      <td>NaN</td>\n",
       "      <td>NaN</td>\n",
       "    </tr>\n",
       "    <tr>\n",
       "      <th>56075</th>\n",
       "      <td>Woman, Standing in the Garden (Frau, im Garten...</td>\n",
       "      <td>Oskar Kokoschka</td>\n",
       "      <td>3197</td>\n",
       "      <td>(Austrian, 1886–1980)</td>\n",
       "      <td>(Austrian)</td>\n",
       "      <td>(1886)</td>\n",
       "      <td>(1980)</td>\n",
       "      <td>(Male)</td>\n",
       "      <td>(1916)</td>\n",
       "      <td>Lithograph</td>\n",
       "      <td>...</td>\n",
       "      <td>http://www.moma.org/media/W1siZiIsIjEyMjU0OCJd...</td>\n",
       "      <td>NaN</td>\n",
       "      <td>NaN</td>\n",
       "      <td>NaN</td>\n",
       "      <td>24.900000</td>\n",
       "      <td>NaN</td>\n",
       "      <td>NaN</td>\n",
       "      <td>14.5000</td>\n",
       "      <td>NaN</td>\n",
       "      <td>NaN</td>\n",
       "    </tr>\n",
       "    <tr>\n",
       "      <th>56109</th>\n",
       "      <td>Max Reinhardt (Head) (Kopf)</td>\n",
       "      <td>Oskar Kokoschka</td>\n",
       "      <td>3197</td>\n",
       "      <td>(Austrian, 1886–1980)</td>\n",
       "      <td>(Austrian)</td>\n",
       "      <td>(1886)</td>\n",
       "      <td>(1980)</td>\n",
       "      <td>(Male)</td>\n",
       "      <td>(1919)</td>\n",
       "      <td>Lithograph</td>\n",
       "      <td>...</td>\n",
       "      <td>http://www.moma.org/media/W1siZiIsIjExOTMxOCJd...</td>\n",
       "      <td>NaN</td>\n",
       "      <td>NaN</td>\n",
       "      <td>NaN</td>\n",
       "      <td>38.600000</td>\n",
       "      <td>NaN</td>\n",
       "      <td>NaN</td>\n",
       "      <td>30.3000</td>\n",
       "      <td>NaN</td>\n",
       "      <td>NaN</td>\n",
       "    </tr>\n",
       "    <tr>\n",
       "      <th>56126</th>\n",
       "      <td>Dialogue (Zwiesprache)</td>\n",
       "      <td>Max Pechstein</td>\n",
       "      <td>4533</td>\n",
       "      <td>(German, 1881–1955)</td>\n",
       "      <td>(German)</td>\n",
       "      <td>(1881)</td>\n",
       "      <td>(1955)</td>\n",
       "      <td>(Male)</td>\n",
       "      <td>1920</td>\n",
       "      <td>Woodcut</td>\n",
       "      <td>...</td>\n",
       "      <td>http://www.moma.org/media/W1siZiIsIjExNDgzMCJd...</td>\n",
       "      <td>NaN</td>\n",
       "      <td>NaN</td>\n",
       "      <td>NaN</td>\n",
       "      <td>40.200000</td>\n",
       "      <td>NaN</td>\n",
       "      <td>NaN</td>\n",
       "      <td>31.9000</td>\n",
       "      <td>NaN</td>\n",
       "      <td>NaN</td>\n",
       "    </tr>\n",
       "    <tr>\n",
       "      <th>56159</th>\n",
       "      <td>The Lords of the World (Die Herren der Welt )</td>\n",
       "      <td>Georg Scholz</td>\n",
       "      <td>5260</td>\n",
       "      <td>(German, 1890–1945)</td>\n",
       "      <td>(German)</td>\n",
       "      <td>(1890)</td>\n",
       "      <td>(1945)</td>\n",
       "      <td>(Male)</td>\n",
       "      <td>(1922)</td>\n",
       "      <td>Lithograph</td>\n",
       "      <td>...</td>\n",
       "      <td>http://www.moma.org/media/W1siZiIsIjEyMjcyMCJd...</td>\n",
       "      <td>NaN</td>\n",
       "      <td>NaN</td>\n",
       "      <td>NaN</td>\n",
       "      <td>29.845100</td>\n",
       "      <td>NaN</td>\n",
       "      <td>NaN</td>\n",
       "      <td>40.0000</td>\n",
       "      <td>NaN</td>\n",
       "      <td>NaN</td>\n",
       "    </tr>\n",
       "    <tr>\n",
       "      <th>129764</th>\n",
       "      <td>Songs for Swinging Larvae</td>\n",
       "      <td>Residents</td>\n",
       "      <td>34673</td>\n",
       "      <td>(USA, est. 1972)</td>\n",
       "      <td>(American)</td>\n",
       "      <td>(1972)</td>\n",
       "      <td>(0)</td>\n",
       "      <td>()</td>\n",
       "      <td>1982</td>\n",
       "      <td>Video</td>\n",
       "      <td>...</td>\n",
       "      <td>NaN</td>\n",
       "      <td>NaN</td>\n",
       "      <td>NaN</td>\n",
       "      <td>NaN</td>\n",
       "      <td>NaN</td>\n",
       "      <td>NaN</td>\n",
       "      <td>NaN</td>\n",
       "      <td>NaN</td>\n",
       "      <td>NaN</td>\n",
       "      <td>NaN</td>\n",
       "    </tr>\n",
       "  </tbody>\n",
       "</table>\n",
       "<p>10 rows × 29 columns</p>\n",
       "</div>"
      ],
      "text/plain": [
       "                                                    Title            Artist  \\\n",
       "31567                                          Anna Peter      George Grosz   \n",
       "55945                       Self-Portrait (Selbstbildnis)      Max Beckmann   \n",
       "55997                 Before the Mirror (Vor dem Spiegel)      Max Beckmann   \n",
       "56009   The Blessing of Heaven is Visibly upon Me (Got...      George Grosz   \n",
       "56050                                              Marine  Lyonel Feininger   \n",
       "56075   Woman, Standing in the Garden (Frau, im Garten...   Oskar Kokoschka   \n",
       "56109                         Max Reinhardt (Head) (Kopf)   Oskar Kokoschka   \n",
       "56126                              Dialogue (Zwiesprache)     Max Pechstein   \n",
       "56159       The Lords of the World (Die Herren der Welt )      Georg Scholz   \n",
       "129764                          Songs for Swinging Larvae         Residents   \n",
       "\n",
       "       ConstituentID                            ArtistBio Nationality  \\\n",
       "31567           2374  (American, born Germany. 1893–1959)  (American)   \n",
       "55945            429                  (German, 1884–1950)    (German)   \n",
       "55997            429                  (German, 1884–1950)    (German)   \n",
       "56009           2374  (American, born Germany. 1893–1959)  (American)   \n",
       "56050           1832                (American, 1871–1956)  (American)   \n",
       "56075           3197                (Austrian, 1886–1980)  (Austrian)   \n",
       "56109           3197                (Austrian, 1886–1980)  (Austrian)   \n",
       "56126           4533                  (German, 1881–1955)    (German)   \n",
       "56159           5260                  (German, 1890–1945)    (German)   \n",
       "129764         34673                     (USA, est. 1972)  (American)   \n",
       "\n",
       "       BeginDate EndDate  Gender                  Date           Medium  \\\n",
       "31567     (1893)  (1959)  (Male)             (1926-27)  Pencil on paper   \n",
       "55945     (1884)  (1950)  (Male)  1914, published 1918         Drypoint   \n",
       "55997     (1884)  (1950)  (Male)                (1923)         Drypoint   \n",
       "56009     (1893)  (1959)  (Male)                (1922)  Photolithograph   \n",
       "56050     (1871)  (1956)  (Male)                  1918          Woodcut   \n",
       "56075     (1886)  (1980)  (Male)                (1916)       Lithograph   \n",
       "56109     (1886)  (1980)  (Male)                (1919)       Lithograph   \n",
       "56126     (1881)  (1955)  (Male)                  1920          Woodcut   \n",
       "56159     (1890)  (1945)  (Male)                (1922)       Lithograph   \n",
       "129764    (1972)     (0)      ()                  1982            Video   \n",
       "\n",
       "           ...                                            ThumbnailURL  \\\n",
       "31567      ...       http://www.moma.org/media/W1siZiIsIjg1OTk2Il0s...   \n",
       "55945      ...       http://www.moma.org/media/W1siZiIsIjE2NjE4MSJd...   \n",
       "55997      ...       http://www.moma.org/media/W1siZiIsIjExNDY5NSJd...   \n",
       "56009      ...       http://www.moma.org/media/W1siZiIsIjEzNDg3MyJd...   \n",
       "56050      ...       http://www.moma.org/media/W1siZiIsIjExNDcxOSJd...   \n",
       "56075      ...       http://www.moma.org/media/W1siZiIsIjEyMjU0OCJd...   \n",
       "56109      ...       http://www.moma.org/media/W1siZiIsIjExOTMxOCJd...   \n",
       "56126      ...       http://www.moma.org/media/W1siZiIsIjExNDgzMCJd...   \n",
       "56159      ...       http://www.moma.org/media/W1siZiIsIjEyMjcyMCJd...   \n",
       "129764     ...                                                     NaN   \n",
       "\n",
       "       Circumference_cm Depth_cm Diameter_cm   Height_cm Length_cm Weight_kg  \\\n",
       "31567               NaN      NaN         NaN   68.580100       NaN       NaN   \n",
       "55945               NaN      NaN         NaN  238.760478       NaN       NaN   \n",
       "55997               NaN      NaN         NaN   22.700000       NaN       NaN   \n",
       "56009               NaN      NaN         NaN   45.300000       NaN       NaN   \n",
       "56050               NaN      NaN         NaN   16.800000       NaN       NaN   \n",
       "56075               NaN      NaN         NaN   24.900000       NaN       NaN   \n",
       "56109               NaN      NaN         NaN   38.600000       NaN       NaN   \n",
       "56126               NaN      NaN         NaN   40.200000       NaN       NaN   \n",
       "56159               NaN      NaN         NaN   29.845100       NaN       NaN   \n",
       "129764              NaN      NaN         NaN         NaN       NaN       NaN   \n",
       "\n",
       "        Width_cm Seat_Height_cm Duration_sec  \n",
       "31567    53.6576            NaN          NaN  \n",
       "55945    17.7000            NaN          NaN  \n",
       "55997    17.4000            NaN          NaN  \n",
       "56009    36.7000            NaN          NaN  \n",
       "56050    22.5000            NaN          NaN  \n",
       "56075    14.5000            NaN          NaN  \n",
       "56109    30.3000            NaN          NaN  \n",
       "56126    31.9000            NaN          NaN  \n",
       "56159    40.0000            NaN          NaN  \n",
       "129764       NaN            NaN          NaN  \n",
       "\n",
       "[10 rows x 29 columns]"
      ]
     },
     "execution_count": 5,
     "metadata": {},
     "output_type": "execute_result"
    }
   ],
   "source": [
    "# Set pandas options to display all rows and columns [Be careful if displaying huge dataframes!]\n",
    "# pd.options.display.max_columns = None\n",
    "# pd.options.display.max_rows = None\n",
    "\n",
    "artworks[artworks['DateAcquired'] < '1930-01-01']"
   ]
  },
  {
   "cell_type": "markdown",
   "metadata": {},
   "source": [
    "> Note: In pandas you can also do `artworks.DateAcquired` which is equivalent to `artworks['DateAcquired']`\n",
    "\n",
    "**Write-up!** Look closely at the data. Can you notice some interesting aspect in this sample of the data you would like to investigate further? Make a note in the cell below. "
   ]
  },
  {
   "cell_type": "raw",
   "metadata": {},
   "source": [
    "# your response here\n",
    "Entry 129764 has a mistake in the date acquired because it says it was acquired before it was even started which is not possible. "
   ]
  },
  {
   "cell_type": "markdown",
   "metadata": {},
   "source": [
    "Did you already notice a flaw in this extremely small sample? ...yes! Data is _always_ messy."
   ]
  },
  {
   "cell_type": "markdown",
   "metadata": {},
   "source": [
    "#### Data Cleaning and Formatting"
   ]
  },
  {
   "cell_type": "code",
   "execution_count": 6,
   "metadata": {
    "ExecuteTime": {
     "end_time": "2018-09-26T06:03:24.560403Z",
     "start_time": "2018-09-26T06:03:24.537053Z"
    }
   },
   "outputs": [],
   "source": [
    "# Exclude (or fix) troublesome data as you discover it\n",
    "artworks.loc[artworks[artworks.DateAcquired=='1216-10-18'].index, 'DateAcquired'] = '2016-10-18'"
   ]
  },
  {
   "cell_type": "code",
   "execution_count": 7,
   "metadata": {
    "ExecuteTime": {
     "end_time": "2018-09-26T06:03:24.629646Z",
     "start_time": "2018-09-26T06:03:24.562676Z"
    }
   },
   "outputs": [],
   "source": [
    "# Set the date to a datetime type\n",
    "artworks['DateAcquired'] = pd.to_datetime(artworks['DateAcquired'])"
   ]
  },
  {
   "cell_type": "markdown",
   "metadata": {
    "ExecuteTime": {
     "end_time": "2018-09-26T06:03:24.643449Z",
     "start_time": "2018-09-26T06:03:24.638667Z"
    }
   },
   "source": [
    "### Step 3: Data Profiling\n",
    "\n",
    "**Try this!** How many artworks does our dataset have? How many _features_? Get the number of artworks and number of features of the dataset. Luckily, you can use the same command as for numpy arrays! Feel free to get an idea of what the other dataset (directors) looks like as well. "
   ]
  },
  {
   "cell_type": "code",
   "execution_count": 8,
   "metadata": {
    "ExecuteTime": {
     "end_time": "2018-09-26T06:03:24.636247Z",
     "start_time": "2018-09-26T06:03:24.632051Z"
    }
   },
   "outputs": [
    {
     "data": {
      "text/plain": [
       "(135318, 29)"
      ]
     },
     "execution_count": 8,
     "metadata": {},
     "output_type": "execute_result"
    }
   ],
   "source": [
    "# your code here\n",
    "artworks.shape"
   ]
  },
  {
   "cell_type": "markdown",
   "metadata": {},
   "source": [
    "#### Summary Statistics and Visualization\n",
    "Let's compute some basic summary statistics and visualize the distributions of some of the features. The first feature to investigate could be the width of the artworks. \n",
    "\n",
    "##### Width in cm\n",
    "> Note: this is a _continuous_ variable. "
   ]
  },
  {
   "cell_type": "code",
   "execution_count": 9,
   "metadata": {},
   "outputs": [
    {
     "name": "stdout",
     "output_type": "stream",
     "text": [
      "mean: 38.02759300863661\n",
      "standard deviation: 66.68162504161523\n",
      "min: 0.0\n",
      "max: 9144.0\n"
     ]
    },
    {
     "data": {
      "image/png": "[encoded data removed]",
      "text/plain": [
       "<matplotlib.figure.Figure at 0x113bfeba8>"
      ]
     },
     "metadata": {},
     "output_type": "display_data"
    }
   ],
   "source": [
    "# Summary statistics\n",
    "print(f'mean: {artworks[\"Width_cm\"].mean()}')\n",
    "print(f'standard deviation: {artworks[\"Width_cm\"].std()}')\n",
    "print(f'min: {artworks[\"Width_cm\"].min()}')\n",
    "print(f'max: {artworks[\"Width_cm\"].max()}')\n",
    "\n",
    "# Extract the width column\n",
    "w = artworks['Width_cm']\n",
    "\n",
    "# Do not consider examples where the value = NaN\n",
    "id_NaN = artworks['Width_cm'].notnull()\n",
    "w = w[id_NaN]\n",
    "\n",
    "# Plot histogram\n",
    "plt.hist(w, 20)\n",
    "# plt.hist(w, 20, log=True)\n",
    "plt.title(\"Distribution of artwork width (Try #1)\")\n",
    "plt.xlabel(\"width (cm)\")\n",
    "plt.ylabel(\"number of artworks\")\n",
    "plt.show()"
   ]
  },
  {
   "cell_type": "markdown",
   "metadata": {},
   "source": [
    "Well, this didn't work out as expected. \n",
    "\n",
    "**Try this!** In the above cell, play with the number of bins for the histogram plot. \n",
    "\n",
    "It turns out the issue we face is that the **range** of the width variable (as displayed on the x-axis in the histogram plot) is quite large. So, we don't really see anything. \n",
    "\n",
    "**Try this!** Create a temporary variable `w_new` of the width of all artworks with width smaller then 250cm. Also, a width of 0 doesn't really make much sense either! Plot the histogram and compute the summary statistics from this new variable, including mean, standard deviation, and anything else you may think is useful to know. Remember to include plot titles and axis labels!"
   ]
  },
  {
   "cell_type": "code",
   "execution_count": 10,
   "metadata": {},
   "outputs": [
    {
     "name": "stdout",
     "output_type": "stream",
     "text": [
      "mean: 36.028536451718196\n",
      "standard deviation: 30.41223477113088\n",
      "min: 0.3\n",
      "max: 249.873\n"
     ]
    },
    {
     "data": {
      "image/png": "[encoded data removed]",
      "text/plain": [
       "<matplotlib.figure.Figure at 0x119e56550>"
      ]
     },
     "metadata": {},
     "output_type": "display_data"
    }
   ],
   "source": [
    "# your code here\n",
    "w_new = w[w < 250][w > 0]\n",
    "\n",
    "# Summary statistics\n",
    "print(f'mean: {w_new.mean()}')\n",
    "print(f'standard deviation: {w_new.std()}')\n",
    "print(f'min: {w_new.min()}')\n",
    "print(f'max: {w_new.max()}')\n",
    "\n",
    "\n",
    "# Plot histogram\n",
    "plt.hist(w_new, 20)\n",
    "# plt.hist(w, 20, log=True)\n",
    "plt.title(\"Distribution of artwork width (Try #1)\")\n",
    "plt.xlabel(\"width (cm)\")\n",
    "plt.ylabel(\"number of artworks\")\n",
    "plt.show()"
   ]
  },
  {
   "cell_type": "markdown",
   "metadata": {},
   "source": [
    "##### Classification\n",
    "Our next feature to investiage is the classification of the artwork. \n",
    "> Note: this is a _categorical_ variable."
   ]
  },
  {
   "cell_type": "code",
   "execution_count": 11,
   "metadata": {},
   "outputs": [
    {
     "data": {
      "text/plain": [
       "Index(['Photograph', 'Print', 'Illustrated Book', 'Drawing', 'Design',\n",
       "       'Mies van der Rohe Archive', 'Architecture', 'Video', 'Film',\n",
       "       'Painting', 'Sculpture', 'Multiple', 'Periodical', 'Installation',\n",
       "       'Frank Lloyd Wright Archive', 'Audio', '(not assigned)', 'Ephemera',\n",
       "       'Work on Paper', 'Media', 'Performance', 'Textile', 'Poster', 'Collage',\n",
       "       'Software', 'Photography Research/Reference', 'Graphic Design',\n",
       "       'Furniture and Interiors', 'Film (object)', 'Product Design',\n",
       "       'News Clipping', 'Architectural Model', 'Publication'],\n",
       "      dtype='object')"
      ]
     },
     "execution_count": 11,
     "metadata": {},
     "output_type": "execute_result"
    }
   ],
   "source": [
    "artworks['Classification'].value_counts().keys()"
   ]
  },
  {
   "cell_type": "code",
   "execution_count": 12,
   "metadata": {},
   "outputs": [
    {
     "name": "stdout",
     "output_type": "stream",
     "text": [
      "Most fequent class and ferequency:\n",
      "Photograph    31353\n",
      "Name: Classification, dtype: int64\n"
     ]
    },
    {
     "data": {
      "image/png": "[encoded data removed]",
      "text/plain": [
       "<matplotlib.figure.Figure at 0x10ad13390>"
      ]
     },
     "metadata": {},
     "output_type": "display_data"
    }
   ],
   "source": [
    "import numpy as np\n",
    "# Aggregated vaules\n",
    "#print(artworks.Classification.value_counts())\n",
    "\n",
    "# Summary statisitcs\n",
    "class_mode = artworks['Classification'].mode().values\n",
    "print(\"Most fequent class and ferequency:\")\n",
    "print(artworks.Classification.value_counts()[class_mode])\n",
    "\n",
    "counts = artworks['Classification'].value_counts()\n",
    "\n",
    "# Bar plot\n",
    "plt.bar(np.arange(counts.shape[0]), artworks['Classification'].value_counts().values)\n",
    "plt.xticks(np.arange(counts.shape[0]), counts.keys(), rotation=90)\n",
    "plt.title(\"Artworks per class\")\n",
    "plt.ylabel(\"number of artworks\")\n",
    "plt.show()\n",
    "\n",
    "# [OPTIONAL] the same plot can be generated using pandas plot functinality\n",
    "# artworks['Classification'].value_counts().plot(kind='bar')"
   ]
  },
  {
   "cell_type": "markdown",
   "metadata": {},
   "source": [
    "##### Your Feature\n",
    "**Try this!** Compute the summary statistics of another feature of your choice and visualize it using an appropriate plot."
   ]
  },
  {
   "cell_type": "code",
   "execution_count": 13,
   "metadata": {},
   "outputs": [
    {
     "name": "stdout",
     "output_type": "stream",
     "text": [
      "Most fequent class and ferequency:\n",
      "Prints & Illustrated Books    62013\n",
      "Name: Department, dtype: int64\n"
     ]
    },
    {
     "data": {
      "image/png": "[encoded data removed]",
      "text/plain": [
       "<matplotlib.figure.Figure at 0x110a465c0>"
      ]
     },
     "metadata": {},
     "output_type": "display_data"
    }
   ],
   "source": [
    "# your code here\n",
    "# Summary statisitcs\n",
    "class_mode = artworks['Department'].mode().values\n",
    "print(\"Most fequent class and ferequency:\")\n",
    "print(artworks.Department.value_counts()[class_mode])\n",
    "\n",
    "counts = artworks['Department'].value_counts()\n",
    "\n",
    "# Bar plot\n",
    "plt.bar(np.arange(counts.shape[0]), artworks['Department'].value_counts().values)\n",
    "plt.xticks(np.arange(counts.shape[0]), counts.keys(), rotation=90)\n",
    "plt.title(\"Artworks per class\")\n",
    "plt.ylabel(\"number of artworks\")\n",
    "plt.show()\n"
   ]
  },
  {
   "cell_type": "markdown",
   "metadata": {},
   "source": [
    "##### Relationship between two variables\n",
    "\n",
    "**Challenge!** Visualize the relationship between two _continuous_ variables of your choice using an appropriate plot. Check Lab1 for some sample code if you need a reminder. "
   ]
  },
  {
   "cell_type": "code",
   "execution_count": 14,
   "metadata": {},
   "outputs": [
    {
     "data": {
      "image/png": "[encoded data removed]",
      "text/plain": [
       "<matplotlib.figure.Figure at 0x10aab9ba8>"
      ]
     },
     "metadata": {},
     "output_type": "display_data"
    }
   ],
   "source": [
    "# your code here\n",
    "plt.scatter(artworks['Height_cm'], artworks['Width_cm'])\n",
    "plt.show()"
   ]
  },
  {
   "cell_type": "code",
   "execution_count": null,
   "metadata": {},
   "outputs": [],
   "source": []
  },
  {
   "cell_type": "markdown",
   "metadata": {},
   "source": [
    "### Step 4: Develop Questions to Investigate\n",
    "Hold on! We don't really know (yet) what we are trying to investiage in the MoMA data! By looking at the artworks acquired in 1929 you might have noticed that all artworks are from male artistis. That's something to take a closer look at! So, here is an interesting question of investigation: \n",
    "\n",
    "\n",
    "> _What has impacted the representation of gender in the Museum of Modern Art?_\n",
    "\n",
    "Now, this is an extremely broad question. Let's break this down into a bunch of smaller questions, for example: \n",
    "\n",
    "- **(Q1)** _How does the gender distribution of acquired works change over time?_\n",
    "- **(Q2)** _How does the gender distribution of acquired works change with different museum directors?_\n",
    "\n",
    "**Write-up!** Is there anything else that comes to your mind right now, that you want to investiagte? If so, make a note in the cell below: "
   ]
  },
  {
   "cell_type": "raw",
   "metadata": {},
   "source": [
    "# your response here\n",
    "I would like to plots that compare gender of artists over time and gender of artists against the museum directors. This would give us an accruate representation of what impacts gender distribution."
   ]
  },
  {
   "cell_type": "markdown",
   "metadata": {},
   "source": [
    "#### More Data Profiling and Cleaning\n",
    "Okay, so let's look at some basic aggregate statistics with respect to artworks and artist gender. How many artworks from male and female artists did the MoMA acquire? \n",
    "\n",
    "Try #1: let's use panda's `groupby` function: "
   ]
  },
  {
   "cell_type": "code",
   "execution_count": null,
   "metadata": {},
   "outputs": [],
   "source": [
    "artworks.groupby('Gender').count()"
   ]
  },
  {
   "cell_type": "markdown",
   "metadata": {},
   "source": [
    "**Oooooops** It looks like this data is even messier than expected! We will have to do _some_ work to get even this simple statistic. The main issue is that an artwork can have multiple artists. So, let's count the number of female and male artists for each artwork. "
   ]
  },
  {
   "cell_type": "code",
   "execution_count": 17,
   "metadata": {
    "ExecuteTime": {
     "end_time": "2018-09-26T06:03:28.487327Z",
     "start_time": "2018-09-26T06:03:28.247547Z"
    }
   },
   "outputs": [],
   "source": [
    "# clean gender features to be all lowercase\n",
    "artworks['Gender'] = artworks.Gender.str.lower()\n",
    "\n",
    "artworks[\"num_males\"] = artworks.Gender.apply(lambda x: str(x).count(\"(male)\"))\n",
    "artworks[\"num_females\"] = artworks.Gender.apply(lambda x: str(x).count(\"(female)\"))"
   ]
  },
  {
   "cell_type": "markdown",
   "metadata": {},
   "source": [
    "Try #2: Observe the gender column and also the newly added last two columns aggregting the number of male and female artisits of each artwork respectively. Let' look at the most recently acquired artworks. \n",
    "\n",
    "**Try this!** Display all artworks acquired after May 20th 2018 and inspect the columns `DateAcquired`, `Gender`, `num_males`, and \t`num_females`. "
   ]
  },
  {
   "cell_type": "code",
   "execution_count": null,
   "metadata": {},
   "outputs": [],
   "source": [
    "# your code here\n",
    "artworks[artworks['DateAcquired'] >  '2018-05-20']\n"
   ]
  },
  {
   "cell_type": "markdown",
   "metadata": {},
   "source": [
    "### Step 5: Investiage Hypothesis Q1\n",
    "\n",
    "#### Gender Representation: Number of MoMA Artworks by Gender"
   ]
  },
  {
   "cell_type": "code",
   "execution_count": 19,
   "metadata": {},
   "outputs": [
    {
     "name": "stdout",
     "output_type": "stream",
     "text": [
      "Number of artworks by male artists: 106897\n"
     ]
    }
   ],
   "source": [
    "# works by male artist(s)\n",
    "works_man = artworks[(artworks.num_males>0) & (artworks.num_females==0)]\n",
    "print(f'Number of artworks by male artists: {works_man[\"Gender\"].count()}')"
   ]
  },
  {
   "cell_type": "markdown",
   "metadata": {},
   "source": [
    "**Try This!** Compute the number of artworks from female artists (_one ore mutliple female artisits, no male artists_) and the number of artworks that have both male and female artists (_at least one male and one female artist_). "
   ]
  },
  {
   "cell_type": "code",
   "execution_count": 20,
   "metadata": {},
   "outputs": [
    {
     "name": "stdout",
     "output_type": "stream",
     "text": [
      "Number of artworks by female artists: 17638\n",
      "Number of artworks by male and female artists: 2345\n"
     ]
    }
   ],
   "source": [
    "# your code here\n",
    "works_female = artworks[(artworks.num_females>0) & (artworks.num_males==0)]\n",
    "print(f'Number of artworks by female artists: {works_female[\"Gender\"].count()}')\n",
    "works_both = artworks[(artworks.num_females>0) & (artworks.num_males>0)]\n",
    "print(f'Number of artworks by male and female artists: {works_both[\"Gender\"].count()}')"
   ]
  },
  {
   "cell_type": "markdown",
   "metadata": {},
   "source": [
    "#### Trend Analysis: Visualization of Gender Representation over Time\n",
    "\n",
    "Now, let's plot the number of MoMA artworks over time using a line plot:  "
   ]
  },
  {
   "cell_type": "code",
   "execution_count": 21,
   "metadata": {},
   "outputs": [
    {
     "data": {
      "image/png": "[encoded data removed]",
      "text/plain": [
       "<matplotlib.figure.Figure at 0x117262278>"
      ]
     },
     "metadata": {},
     "output_type": "display_data"
    }
   ],
   "source": [
    "def plot_num_artwork_over_time(df, title=None):\n",
    "    \"\"\"Calculates cumulative number of artworks. Plots the values over time.\"\"\"\n",
    "    \n",
    "    # Drop entries where date is not defined\n",
    "    df = df[df['DateAcquired'].notnull()]\n",
    "    \n",
    "    # Sort by date\n",
    "    df = df.sort_values(by='DateAcquired')\n",
    "    \n",
    "    # Add artworks acquired\n",
    "    df['ones'] = 1\n",
    "    df['num_acquired'] = df.ones.cumsum()\n",
    "    \n",
    "    # Plot (this is a line plot)\n",
    "    plt.plot(df.DateAcquired,df['num_acquired']/1000, label='Total')\n",
    "   \n",
    "    plt.xlabel(\"Year Acquired\")\n",
    "    plt.ylabel(\"Number of Works (000s)\")\n",
    "    if title:\n",
    "        plt.title(title)\n",
    "    plt.legend()\n",
    "    plt.show()\n",
    "\n",
    "plot_num_artwork_over_time(artworks, title=\"All MoMA artwork\")"
   ]
  },
  {
   "cell_type": "markdown",
   "metadata": {},
   "source": [
    "Great. Now, we can add the cumulative number of artworks by gender to this plot.  "
   ]
  },
  {
   "cell_type": "code",
   "execution_count": 22,
   "metadata": {},
   "outputs": [
    {
     "data": {
      "image/png": "[encoded data removed]",
      "text/plain": [
       "<matplotlib.figure.Figure at 0x114511128>"
      ]
     },
     "metadata": {},
     "output_type": "display_data"
    }
   ],
   "source": [
    "def plot_gender_breakdown_over_time(df, title=None):\n",
    "    \"\"\"Calculates cumulative number of artworks by gender. Plots the values over time.\"\"\"\n",
    "    \n",
    "    # Drop entries where date is not defined\n",
    "    df = df[df['DateAcquired'].notnull()]\n",
    "    \n",
    "    # Sort by date\n",
    "    df = df.sort_values(by='DateAcquired')\n",
    "    \n",
    "    # Add artworks acquired\n",
    "    df['ones'] = 1\n",
    "    df['num_acquired'] = df.ones.cumsum()\n",
    "    \n",
    "    works_man = df[(df.num_males>0) & (df.num_females==0)].copy()   # works by male artist(s)\n",
    "    works_man['num_acquired'] = works_man.ones.cumsum()\n",
    "    \n",
    "    # your code here\n",
    "\n",
    "    \n",
    "    # Plot\n",
    "    plt.plot(df.DateAcquired,df['num_acquired']/1000, label='Total')\n",
    "    plt.plot(works_man.DateAcquired,works_man['num_acquired']/1000, label='Male')\n",
    "    \n",
    "    # your code here\n",
    "\n",
    "    \n",
    "    plt.xlabel(\"Year Acquired\")\n",
    "    plt.ylabel(\"Number of Works (000s)\")\n",
    "    if title:\n",
    "        plt.title(title)\n",
    "    plt.legend()\n",
    "    plt.show()\n",
    "    \n",
    "plot_gender_breakdown_over_time(artworks, title=\"All MoMA artwork By Artist Gender\")"
   ]
  },
  {
   "cell_type": "markdown",
   "metadata": {},
   "source": [
    "**Try This!** In the function `plot_gender_breakdown_over_time` add two more lines to the plot, one for artworks from female artists (_one ore mutliple female artisits, no male artists_) and one for artworks from both male and female artists (_at least one male and one female artist_). \n",
    "\n",
    "> Hint: This is very similar to when you computed the counts. Be lazy and copy your code from above!"
   ]
  },
  {
   "cell_type": "markdown",
   "metadata": {},
   "source": [
    "#### Fraction Analysis: Visualization of Fraction of MoMA Artworks By Female Artists per Year\n",
    "\n",
    "Sometimes it's a good idea to look at fractions insted of absolute numbers to account for times where more or less artworks were acquired.  "
   ]
  },
  {
   "cell_type": "code",
   "execution_count": 23,
   "metadata": {
    "ExecuteTime": {
     "end_time": "2018-09-26T06:03:28.494124Z",
     "start_time": "2018-09-26T06:03:28.489046Z"
    }
   },
   "outputs": [
    {
     "data": {
      "text/html": [
       "<div>\n",
       "<style>\n",
       "    .dataframe thead tr:only-child th {\n",
       "        text-align: right;\n",
       "    }\n",
       "\n",
       "    .dataframe thead th {\n",
       "        text-align: left;\n",
       "    }\n",
       "\n",
       "    .dataframe tbody tr th {\n",
       "        vertical-align: top;\n",
       "    }\n",
       "</style>\n",
       "<table border=\"1\" class=\"dataframe\">\n",
       "  <thead>\n",
       "    <tr style=\"text-align: right;\">\n",
       "      <th></th>\n",
       "      <th>DateAcquired</th>\n",
       "      <th>Gender</th>\n",
       "      <th>num_males</th>\n",
       "      <th>num_females</th>\n",
       "      <th>frac_males</th>\n",
       "      <th>frac_females</th>\n",
       "    </tr>\n",
       "  </thead>\n",
       "  <tbody>\n",
       "    <tr>\n",
       "      <th>10015</th>\n",
       "      <td>1970-03-05</td>\n",
       "      <td>(male)</td>\n",
       "      <td>1</td>\n",
       "      <td>0</td>\n",
       "      <td>1.000000</td>\n",
       "      <td>0.000000</td>\n",
       "    </tr>\n",
       "    <tr>\n",
       "      <th>28718</th>\n",
       "      <td>1964-10-06</td>\n",
       "      <td>(male) (male)</td>\n",
       "      <td>2</td>\n",
       "      <td>0</td>\n",
       "      <td>1.000000</td>\n",
       "      <td>0.000000</td>\n",
       "    </tr>\n",
       "    <tr>\n",
       "      <th>26221</th>\n",
       "      <td>1964-10-06</td>\n",
       "      <td>(male)</td>\n",
       "      <td>1</td>\n",
       "      <td>0</td>\n",
       "      <td>1.000000</td>\n",
       "      <td>0.000000</td>\n",
       "    </tr>\n",
       "    <tr>\n",
       "      <th>38928</th>\n",
       "      <td>1968-03-06</td>\n",
       "      <td>(male)</td>\n",
       "      <td>1</td>\n",
       "      <td>0</td>\n",
       "      <td>1.000000</td>\n",
       "      <td>0.000000</td>\n",
       "    </tr>\n",
       "    <tr>\n",
       "      <th>46104</th>\n",
       "      <td>1994-03-10</td>\n",
       "      <td>(male)</td>\n",
       "      <td>1</td>\n",
       "      <td>0</td>\n",
       "      <td>1.000000</td>\n",
       "      <td>0.000000</td>\n",
       "    </tr>\n",
       "    <tr>\n",
       "      <th>131297</th>\n",
       "      <td>NaT</td>\n",
       "      <td>(male)</td>\n",
       "      <td>1</td>\n",
       "      <td>0</td>\n",
       "      <td>1.000000</td>\n",
       "      <td>0.000000</td>\n",
       "    </tr>\n",
       "    <tr>\n",
       "      <th>95196</th>\n",
       "      <td>NaT</td>\n",
       "      <td>(male)</td>\n",
       "      <td>1</td>\n",
       "      <td>0</td>\n",
       "      <td>1.000000</td>\n",
       "      <td>0.000000</td>\n",
       "    </tr>\n",
       "    <tr>\n",
       "      <th>80751</th>\n",
       "      <td>2002-12-10</td>\n",
       "      <td>(male)</td>\n",
       "      <td>1</td>\n",
       "      <td>0</td>\n",
       "      <td>1.000000</td>\n",
       "      <td>0.000000</td>\n",
       "    </tr>\n",
       "    <tr>\n",
       "      <th>133542</th>\n",
       "      <td>NaT</td>\n",
       "      <td>(male)</td>\n",
       "      <td>1</td>\n",
       "      <td>0</td>\n",
       "      <td>1.000000</td>\n",
       "      <td>0.000000</td>\n",
       "    </tr>\n",
       "    <tr>\n",
       "      <th>56909</th>\n",
       "      <td>1979-01-23</td>\n",
       "      <td>(male)</td>\n",
       "      <td>1</td>\n",
       "      <td>0</td>\n",
       "      <td>1.000000</td>\n",
       "      <td>0.000000</td>\n",
       "    </tr>\n",
       "    <tr>\n",
       "      <th>15202</th>\n",
       "      <td>1971-03-30</td>\n",
       "      <td>(male)</td>\n",
       "      <td>1</td>\n",
       "      <td>0</td>\n",
       "      <td>1.000000</td>\n",
       "      <td>0.000000</td>\n",
       "    </tr>\n",
       "    <tr>\n",
       "      <th>34786</th>\n",
       "      <td>1986-12-22</td>\n",
       "      <td>(male)</td>\n",
       "      <td>1</td>\n",
       "      <td>0</td>\n",
       "      <td>1.000000</td>\n",
       "      <td>0.000000</td>\n",
       "    </tr>\n",
       "    <tr>\n",
       "      <th>64585</th>\n",
       "      <td>1969-05-22</td>\n",
       "      <td>(male)</td>\n",
       "      <td>1</td>\n",
       "      <td>0</td>\n",
       "      <td>1.000000</td>\n",
       "      <td>0.000000</td>\n",
       "    </tr>\n",
       "    <tr>\n",
       "      <th>118891</th>\n",
       "      <td>2013-10-24</td>\n",
       "      <td>(female) (male) (male)</td>\n",
       "      <td>2</td>\n",
       "      <td>1</td>\n",
       "      <td>0.666667</td>\n",
       "      <td>0.333333</td>\n",
       "    </tr>\n",
       "    <tr>\n",
       "      <th>125948</th>\n",
       "      <td>2015-10-19</td>\n",
       "      <td>()</td>\n",
       "      <td>0</td>\n",
       "      <td>0</td>\n",
       "      <td>NaN</td>\n",
       "      <td>NaN</td>\n",
       "    </tr>\n",
       "  </tbody>\n",
       "</table>\n",
       "</div>"
      ],
      "text/plain": [
       "       DateAcquired                  Gender  num_males  num_females  \\\n",
       "10015    1970-03-05                  (male)          1            0   \n",
       "28718    1964-10-06           (male) (male)          2            0   \n",
       "26221    1964-10-06                  (male)          1            0   \n",
       "38928    1968-03-06                  (male)          1            0   \n",
       "46104    1994-03-10                  (male)          1            0   \n",
       "131297          NaT                  (male)          1            0   \n",
       "95196           NaT                  (male)          1            0   \n",
       "80751    2002-12-10                  (male)          1            0   \n",
       "133542          NaT                  (male)          1            0   \n",
       "56909    1979-01-23                  (male)          1            0   \n",
       "15202    1971-03-30                  (male)          1            0   \n",
       "34786    1986-12-22                  (male)          1            0   \n",
       "64585    1969-05-22                  (male)          1            0   \n",
       "118891   2013-10-24  (female) (male) (male)          2            1   \n",
       "125948   2015-10-19                      ()          0            0   \n",
       "\n",
       "        frac_males  frac_females  \n",
       "10015     1.000000      0.000000  \n",
       "28718     1.000000      0.000000  \n",
       "26221     1.000000      0.000000  \n",
       "38928     1.000000      0.000000  \n",
       "46104     1.000000      0.000000  \n",
       "131297    1.000000      0.000000  \n",
       "95196     1.000000      0.000000  \n",
       "80751     1.000000      0.000000  \n",
       "133542    1.000000      0.000000  \n",
       "56909     1.000000      0.000000  \n",
       "15202     1.000000      0.000000  \n",
       "34786     1.000000      0.000000  \n",
       "64585     1.000000      0.000000  \n",
       "118891    0.666667      0.333333  \n",
       "125948         NaN           NaN  "
      ]
     },
     "execution_count": 23,
     "metadata": {},
     "output_type": "execute_result"
    }
   ],
   "source": [
    "artworks[\"frac_males\"] = artworks.num_males.divide(artworks.num_males + artworks.num_females)\n",
    "artworks[\"frac_females\"] = artworks.num_females.divide(artworks.num_males + artworks.num_females)\n",
    "\n",
    "# Verify that our fractions are correct \n",
    "# --> execute this cell a couple of times\n",
    "# --> you want to see a sample artwork with artists of both genders and check the fractions\n",
    "artworks.sample(15)[['DateAcquired','Gender', 'num_males', 'num_females', 'frac_males', 'frac_females']]"
   ]
  },
  {
   "cell_type": "markdown",
   "metadata": {},
   "source": [
    "Now, let's take a look at the gender fractions of art aquisitions by year:"
   ]
  },
  {
   "cell_type": "code",
   "execution_count": 24,
   "metadata": {},
   "outputs": [
    {
     "data": {
      "text/plain": [
       "\u001b[0;31mSignature:\u001b[0m \u001b[0mplot_gender_fraction_over_time\u001b[0m\u001b[0;34m(\u001b[0m\u001b[0mdf\u001b[0m\u001b[0;34m,\u001b[0m \u001b[0mtitle\u001b[0m\u001b[0;34m=\u001b[0m\u001b[0;32mNone\u001b[0m\u001b[0;34m)\u001b[0m\u001b[0;34m\u001b[0m\u001b[0m\n",
       "\u001b[0;31mDocstring:\u001b[0m Calculates the annual fraction of artworks by gender. Plots the ratio over time.\n",
       "\u001b[0;31mFile:\u001b[0m      ~/Documents/Spring 2020/CSE217/Lab2/utility/util.py\n",
       "\u001b[0;31mType:\u001b[0m      function\n"
      ]
     },
     "metadata": {},
     "output_type": "display_data"
    }
   ],
   "source": [
    "plot_gender_fraction_over_time?"
   ]
  },
  {
   "cell_type": "code",
   "execution_count": 27,
   "metadata": {},
   "outputs": [],
   "source": [
    "artworks['DateAcquired'] = pd.to_datetime(artworks['DateAcquired'])"
   ]
  },
  {
   "cell_type": "code",
   "execution_count": 29,
   "metadata": {},
   "outputs": [
    {
     "data": {
      "text/plain": [
       "dtype('<M8[ns]')"
      ]
     },
     "execution_count": 29,
     "metadata": {},
     "output_type": "execute_result"
    }
   ],
   "source": [
    "artworks['DateAcquired'].dtype"
   ]
  },
  {
   "cell_type": "code",
   "execution_count": 34,
   "metadata": {
    "ExecuteTime": {
     "end_time": "2018-09-26T06:03:56.680815Z",
     "start_time": "2018-09-26T06:03:54.829911Z"
    },
    "scrolled": true
   },
   "outputs": [
    {
     "name": "stdout",
     "output_type": "stream",
     "text": [
      "The autoreload extension is already loaded. To reload it, use:\n",
      "  %reload_ext autoreload\n"
     ]
    },
    {
     "ename": "TypeError",
     "evalue": "You have to supply one of 'by' and 'level'",
     "output_type": "error",
     "traceback": [
      "\u001b[0;31m---------------------------------------------------------------------------\u001b[0m",
      "\u001b[0;31mTypeError\u001b[0m                                 Traceback (most recent call last)",
      "\u001b[0;32m<ipython-input-34-1949c79d19d4>\u001b[0m in \u001b[0;36m<module>\u001b[0;34m()\u001b[0m\n\u001b[1;32m      5\u001b[0m \u001b[0;34m\u001b[0m\u001b[0m\n\u001b[1;32m      6\u001b[0m \u001b[0;31m# this function generating the plot is totally OPTIONAL -  no need to look at the code\u001b[0m\u001b[0;34m\u001b[0m\u001b[0;34m\u001b[0m\u001b[0m\n\u001b[0;32m----> 7\u001b[0;31m \u001b[0mplot_gender_fraction_over_time\u001b[0m\u001b[0;34m(\u001b[0m\u001b[0martworks\u001b[0m\u001b[0;34m,\u001b[0m \u001b[0mtitle\u001b[0m\u001b[0;34m=\u001b[0m\u001b[0;34m\"All artwork\"\u001b[0m\u001b[0;34m)\u001b[0m\u001b[0;34m\u001b[0m\u001b[0m\n\u001b[0m",
      "\u001b[0;32m/Users/tararenduchintala/Documents/Spring 2020/CSE217/Lab2/utility/util.py\u001b[0m in \u001b[0;36mplot_gender_fraction_over_time\u001b[0;34m(df, title)\u001b[0m\n\u001b[1;32m     37\u001b[0m     \u001b[0mgrouper\u001b[0m \u001b[0;34m=\u001b[0m \u001b[0mpd\u001b[0m\u001b[0;34m.\u001b[0m\u001b[0mGrouper\u001b[0m\u001b[0;34m(\u001b[0m\u001b[0mfreq\u001b[0m\u001b[0;34m=\u001b[0m\u001b[0;34m'A'\u001b[0m\u001b[0;34m)\u001b[0m\u001b[0;34m\u001b[0m\u001b[0m\n\u001b[1;32m     38\u001b[0m     frac_male_per_year = (100 * (works_man.groupby(grouper)['ones'].count()) /\n\u001b[0;32m---> 39\u001b[0;31m          (df.groupby()['ones'].count()))\n\u001b[0m\u001b[1;32m     40\u001b[0m \u001b[0;34m\u001b[0m\u001b[0m\n\u001b[1;32m     41\u001b[0m     frac_female_per_year =(100 * (works_woman.groupby(grouper)['ones'].count()) /\n",
      "\u001b[0;32m/Users/tararenduchintala/anaconda/lib/python3.6/site-packages/pandas/core/generic.py\u001b[0m in \u001b[0;36mgroupby\u001b[0;34m(self, by, axis, level, as_index, sort, group_keys, squeeze, **kwargs)\u001b[0m\n\u001b[1;32m   4265\u001b[0m \u001b[0;34m\u001b[0m\u001b[0m\n\u001b[1;32m   4266\u001b[0m         \u001b[0;32mif\u001b[0m \u001b[0mlevel\u001b[0m \u001b[0;32mis\u001b[0m \u001b[0;32mNone\u001b[0m \u001b[0;32mand\u001b[0m \u001b[0mby\u001b[0m \u001b[0;32mis\u001b[0m \u001b[0;32mNone\u001b[0m\u001b[0;34m:\u001b[0m\u001b[0;34m\u001b[0m\u001b[0m\n\u001b[0;32m-> 4267\u001b[0;31m             \u001b[0;32mraise\u001b[0m \u001b[0mTypeError\u001b[0m\u001b[0;34m(\u001b[0m\u001b[0;34m\"You have to supply one of 'by' and 'level'\"\u001b[0m\u001b[0;34m)\u001b[0m\u001b[0;34m\u001b[0m\u001b[0m\n\u001b[0m\u001b[1;32m   4268\u001b[0m         \u001b[0maxis\u001b[0m \u001b[0;34m=\u001b[0m \u001b[0mself\u001b[0m\u001b[0;34m.\u001b[0m\u001b[0m_get_axis_number\u001b[0m\u001b[0;34m(\u001b[0m\u001b[0maxis\u001b[0m\u001b[0;34m)\u001b[0m\u001b[0;34m\u001b[0m\u001b[0m\n\u001b[1;32m   4269\u001b[0m         return groupby(self, by=by, axis=axis, level=level, as_index=as_index,\n",
      "\u001b[0;31mTypeError\u001b[0m: You have to supply one of 'by' and 'level'"
     ]
    }
   ],
   "source": [
    "%load_ext autoreload\n",
    "%autoreload 2\n",
    "\n",
    "from utility.util import plot_gender_fraction_over_time\n",
    "\n",
    "# this function generating the plot is totally OPTIONAL -  no need to look at the code\n",
    "plot_gender_fraction_over_time(artworks, title=\"All artwork\")"
   ]
  },
  {
   "cell_type": "markdown",
   "metadata": {},
   "source": [
    "Great! This is a pretty informative visualizations. \n",
    "\n",
    "#### Summarizing Results (Q1)\n",
    "\n",
    "\n",
    "**Write-up!** Describe the results from the **trend** and **fraction** analysis including anything you find notable or surprising. Keep a note on any further questions you might have. "
   ]
  },
  {
   "cell_type": "raw",
   "metadata": {},
   "source": []
  },
  {
   "cell_type": "markdown",
   "metadata": {},
   "source": [
    "### Step 5: Investiage Hypothesis Q2\n",
    "\n",
    "#### Gender Representation By Director\n",
    "\n",
    "First, we'll have to do some data cleaning on the directors table. "
   ]
  },
  {
   "cell_type": "code",
   "execution_count": null,
   "metadata": {},
   "outputs": [],
   "source": [
    "# Extract MoMA directors\n",
    "moma_directors = directors[directors.DepartmentFullName=='The Museum of Modern Art']"
   ]
  },
  {
   "cell_type": "code",
   "execution_count": null,
   "metadata": {
    "ExecuteTime": {
     "end_time": "2018-09-26T06:03:28.503118Z",
     "start_time": "2018-09-26T06:03:28.496244Z"
    }
   },
   "outputs": [],
   "source": [
    "# Add director ID of director acquiring the work to artworks table\n",
    "def get_director(year):\n",
    "    \"\"\"Given the year of artwork acquisition provide the director ID.\"\"\"\n",
    "    for director_ID in moma_directors.index:\n",
    "        if year < moma_directors.sort_values(\n",
    "                by=\"PositionBeginYear\").loc[director_ID, \"PositionEndYear\"]:\n",
    "            return director_ID\n",
    "    return director_ID\n",
    "\n",
    "try:\n",
    "    artworks = pd.read_csv(\"./utility/data/artworks_with_director.csv\", )\n",
    "    artworks['DateAcquired'] = pd.to_datetime(artworks['DateAcquired'])\n",
    "    print(\"Loaded precomputed data.\")\n",
    "except:\n",
    "    print(\"This will take a couple of minutes.\")\n",
    "    artworks[\"Director_ID\"] = artworks.DateAcquired.apply(lambda x: get_director(x.year))\n",
    "    artworks.to_csv(\"./utility/data/artworks_with_director.csv\", index=False)\n",
    "    artworks['DateAcquired'] = pd.to_datetime(artworks['DateAcquired'])\n",
    "    print(\"Completed cell block\")"
   ]
  },
  {
   "cell_type": "markdown",
   "metadata": {},
   "source": [
    "Now, let's compute the number of artworks acquired by each MoMA director and the length of each director's appointment. Based on these numbres we can then get the fractions of artworks from female artists per year. "
   ]
  },
  {
   "cell_type": "code",
   "execution_count": null,
   "metadata": {
    "ExecuteTime": {
     "end_time": "2018-09-26T06:03:28.538135Z",
     "start_time": "2018-09-26T06:03:28.504998Z"
    }
   },
   "outputs": [],
   "source": [
    "import warnings\n",
    "warnings.filterwarnings('ignore')\n",
    "\n",
    "frac_female_by_dir = artworks.groupby(\"Director_ID\").frac_females.mean()\n",
    "frac_female_by_dir = pd.DataFrame(frac_female_by_dir)\n",
    "frac_female_by_dir.columns = [\"Mean fraction of works acquired by female artist\"]\n",
    "\n",
    "moma_directors[\"frac_female\"] = frac_female_by_dir.loc[moma_directors.index, \"Mean fraction of works acquired by female artist\"]\n",
    "moma_directors[[\"DisplayName\",\"frac_female\"]]"
   ]
  },
  {
   "cell_type": "markdown",
   "metadata": {},
   "source": [
    "**Try this!** Create a bar plot of MoMA directors versus the fraction of acquired artworks by female artists. \n",
    "\n",
    "> Hint: check the example visualizing a categorical feature we provided in Step 3: Data Profiling."
   ]
  },
  {
   "cell_type": "code",
   "execution_count": null,
   "metadata": {},
   "outputs": [],
   "source": [
    "# your code here\n"
   ]
  },
  {
   "cell_type": "markdown",
   "metadata": {},
   "source": [
    "#### Summarize Results (Q2)\n",
    "\n",
    "**Write-up!** Summarize your results on the gender representation by differnt museum directors. Highlight, anything you find notable or surprising and keep a note on any further questions you might have. "
   ]
  },
  {
   "cell_type": "raw",
   "metadata": {},
   "source": [
    "# BEGIN SOLUTION\n",
    "\n",
    "\n",
    "\n",
    "# END SOLUTON"
   ]
  },
  {
   "cell_type": "markdown",
   "metadata": {},
   "source": [
    "### Step 6: Answer Questions\n",
    "\n",
    "We will show you a couple of cool insights and try to answer some of your unsanswered quesions at the beginning of next lecture. \n",
    "\n",
    "**Challenge!** Feel free to play with the data and investigate anything you noted or found surprising further as an optional excercise!"
   ]
  },
  {
   "cell_type": "code",
   "execution_count": null,
   "metadata": {},
   "outputs": [],
   "source": [
    "# BEGIN SOLUTION\n",
    "\n",
    "\n",
    "\n",
    "# END SOLUTON"
   ]
  },
  {
   "cell_type": "markdown",
   "metadata": {},
   "source": [
    "## Some Takeaways: \n",
    "\n",
    "- Data Science is not _only_ about answering questions, but also about **posing questions**. \n",
    "- Posing questions is harder than you would expect. \n",
    "- Answering questions can often be as tricky as coming up with the question.\n",
    "- Intricacies in how the data is collected or generated can impact how you can answer the question.\n",
    "- Aim to remain assumption free throughout your analysis!"
   ]
  }
 ],
 "metadata": {
  "kernelspec": {
   "display_name": "Python 3",
   "language": "python",
   "name": "python3"
  },
  "language_info": {
   "codemirror_mode": {
    "name": "ipython",
    "version": 3
   },
   "file_extension": ".py",
   "mimetype": "text/x-python",
   "name": "python",
   "nbconvert_exporter": "python",
   "pygments_lexer": "ipython3",
   "version": "3.6.1"
  },
  "toc": {
   "base_numbering": 1,
   "nav_menu": {},
   "number_sections": true,
   "sideBar": true,
   "skip_h1_title": false,
   "title_cell": "Table of Contents",
   "title_sidebar": "Contents",
   "toc_cell": true,
   "toc_position": {},
   "toc_section_display": true,
   "toc_window_display": true
  }
 },
 "nbformat": 4,
 "nbformat_minor": 4
}
